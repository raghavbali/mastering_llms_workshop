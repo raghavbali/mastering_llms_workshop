{
 "cells": [
  {
   "cell_type": "markdown",
   "metadata": {},
   "source": [
    "<a target=\"_blank\" href=\"https://colab.research.google.com/github/raghavbali/mastering_llms_workshop/blob/main/docs/module_03_instruction_tuning_and_alignment/01_instruction_tuning_llama_txt2py.ipynb\">\n",
    "  <img src=\"https://colab.research.google.com/assets/colab-badge.svg\" alt=\"Open In Colab\"/>\n",
    "</a>"
   ]
  },
  {
   "cell_type": "markdown",
   "metadata": {
    "id": "h50uBQSn-Wro"
   },
   "source": [
    "# Instruction Tuning with Optimizations\n",
    "\n",
    "Instruction tuning is form of fine-tuning that enhances a model's ability to generalize across diverse tasks. This concept is particularly useful in making models more adaptable and efficient in understanding and executing new instructions, even those they haven't been explicitly trained on.\n",
    "\n",
    "## Ok, But What is Instruction Tuning?\n",
    "\n",
    "Instruction tuning differs from task specific fine-tuning (SFT) approach primarily in the nature of the training data. While both methods involve training on **input-output** pairs, instruction tuning adds a critical layer: **instructions**. This additional context helps the model understand the task it is being asked to perform, leading to improved generalization to unseen tasks. Also, as we will see in this notebook, one of the ways of doing instruction tuning helps us skip the trouble of designing task specific heads or loss functions!\n",
    "\n",
    "### Key Differences:\n",
    "- **Task Specific Fine-Tuning**: Trains models using input examples and their corresponding outputs.\n",
    "- **Instruction Tuning**: Augments the input-output pairs with instructions, enhancing the model's ability to generalize to new tasks.\n",
    "\n",
    "### Example\n",
    "\n",
    "**Task Specific Fine-Tuning**:\n",
    "- **Task**: \"Translate English to French\" (this is not explicitly part of training dataset but implied by the training objective)\n",
    "- **Input**: \"The cat is on the mat.\"\n",
    "- **Output**: \"Le chat est sur le tapis.\"\n",
    "\n",
    "**Instruction Tuning**:\n",
    "- **Instruction**: \"Translate the following sentence to French.\" (this is explicitly passed as input to the model)\n",
    "- **Input**: \"The cat is on the mat.\"\n",
    "- **Output**: \"Le chat est sur le tapis.\"\n",
    "\n",
    "By incorporating instructions, the model gains a better understanding of the task, leading to more robust performance across a wider range of tasks.\n",
    "\n",
    "In this notebook, we will go deeper into the mechanics of instruction tuning and tune our own model.\n",
    "\n",
    "\n",
    "We covered a few optimization techniques such as **Quantization** and **LoRA** in the previous module, here we will leverage those techniques to perform instruction tuning of the latest Llama 3.1 (or Llama 2 if you do not have access yet) to **convert natual language text** to ``python``\n",
    "\n",
    "\n",
    "> Note: This notebook, even though optimized, does not work on colab for LLaMA 3.1 but LLaMA 2 fits on colab T4\n",
    "\n",
    "> Built with Llama ❤"
   ]
  },
  {
   "cell_type": "markdown",
   "metadata": {
    "id": "SB8I-qn9-Wrr"
   },
   "source": [
    "## Environment Setup"
   ]
  },
  {
   "cell_type": "code",
   "execution_count": 2,
   "metadata": {},
   "outputs": [
    {
     "data": {
      "text/plain": [
       "'2.2.0+cu121'"
      ]
     },
     "execution_count": 2,
     "metadata": {},
     "output_type": "execute_result"
    }
   ],
   "source": [
    "import torch\n",
    "torch.__version__\n",
    "#'2.2.0+cu121'"
   ]
  },
  {
   "cell_type": "code",
   "execution_count": 1,
   "metadata": {},
   "outputs": [
    {
     "data": {
      "text/plain": [
       "'4.44.0'"
      ]
     },
     "execution_count": 1,
     "metadata": {},
     "output_type": "execute_result"
    }
   ],
   "source": [
    "import transformers\n",
    "transformers.__version__\n",
    "#'4.44.0'"
   ]
  },
  {
   "cell_type": "code",
   "execution_count": null,
   "metadata": {
    "colab": {
     "base_uri": "https://localhost:8080/"
    },
    "id": "68N60PQBDWrF",
    "outputId": "de254fa2-e71f-45f2-9eeb-ef841d7eee66",
    "scrolled": true
   },
   "outputs": [],
   "source": [
    "!pip install -U datasets==4.0.0 accelerate==1.10.0 peft==0.17.0 bitsandbytes==0.47.0 trl==0.21.0 tensorboardX==2.6.2.2"
   ]
  },
  {
   "cell_type": "code",
   "execution_count": null,
   "metadata": {
    "colab": {
     "base_uri": "https://localhost:8080/",
     "height": 759
    },
    "id": "zG5klZi57qKA",
    "outputId": "ded40c72-16e6-48a9-b0e6-a829be9d3d70",
    "scrolled": true
   },
   "outputs": [],
   "source": [
    "# We need this second time on colab as it doesn't pick the latest version\n",
    "# !pip install --upgrade transformers"
   ]
  },
  {
   "cell_type": "markdown",
   "metadata": {
    "id": "rcnJc-iN-Wrs"
   },
   "source": [
    "## Import Packages"
   ]
  },
  {
   "cell_type": "code",
   "execution_count": 3,
   "metadata": {
    "id": "kPr25HTjOwBr"
   },
   "outputs": [],
   "source": [
    "import os\n",
    "import torch\n",
    "from datasets import load_dataset,Dataset\n",
    "from transformers import (\n",
    "    AutoModelForCausalLM,\n",
    "    AutoTokenizer,\n",
    "    BitsAndBytesConfig,\n",
    "    TrainingArguments,\n",
    "    pipeline,\n",
    "    logging,\n",
    ")\n",
    "from peft import LoraConfig, PeftModel,get_peft_model\n",
    "from trl import SFTTrainer"
   ]
  },
  {
   "cell_type": "code",
   "execution_count": 6,
   "metadata": {
    "id": "GrXYhPHqAi9Q"
   },
   "outputs": [],
   "source": [
    "!export HF_TOKEN=\"<ADD YOUR TOKEN>\""
   ]
  },
  {
   "cell_type": "code",
   "execution_count": 7,
   "metadata": {
    "id": "yOsHdZMZ-Wrt"
   },
   "outputs": [],
   "source": [
    "# Ignore warnings\n",
    "logging.set_verbosity(logging.CRITICAL)"
   ]
  },
  {
   "cell_type": "code",
   "execution_count": 8,
   "metadata": {
    "colab": {
     "base_uri": "https://localhost:8080/",
     "height": 17,
     "referenced_widgets": [
      "d7527e6bd5c2415583a3fe46d91efa86",
      "6543a2a38f5f4116862fc282e6125c73",
      "cb1424329f0c49269d1b1dc976adca74",
      "e99502c686c740338356d646c890b106",
      "ec357dff6b0a44bda5abee110299983d",
      "02925a2aff094425badaca15ba5a2ae0",
      "255e8a2287d0463ab494a018462d737a",
      "0bdf4f695d184fb38c104b257f4928b1",
      "819d51fc2cc94551ae2b86f6d76c80c7",
      "4dc7ddb1da5b417c86f88b4eaf488ebc",
      "2de5fa4bbd8b4b38975af34c4b443e40",
      "fc0502b3f2ce417c8720e65cf7257666",
      "8fbad841cdeb46f593c0829e09421136",
      "210a0d6f9bf2407f95971a4080bcbc1d",
      "cf3761ef5f784e4c85b7e9d8fdd5c1c6",
      "fa82f97ac413409da5f0ac54269fd03a",
      "72cd4bdabf914c4ca313e9c5273cf6a8",
      "290ac313a66c41c692dcaf3f1706b09b",
      "3df3bbe02fcf4ab1b106b583aeb74b9d",
      "9a8637c409294644a798c4a2de83f9ed"
     ]
    },
    "id": "LHsjW_4M-Wrt",
    "outputId": "7aae668a-78f3-4c80-bdf0-493485e49186"
   },
   "outputs": [
    {
     "data": {
      "application/vnd.jupyter.widget-view+json": {
       "model_id": "454e3e5072454c92ae9936ba7a1cfca8",
       "version_major": 2,
       "version_minor": 0
      },
      "text/plain": [
       "VBox(children=(HTML(value='<center> <img\\nsrc=https://huggingface.co/front/assets/huggingface_logo-noborder.sv…"
      ]
     },
     "metadata": {},
     "output_type": "display_data"
    }
   ],
   "source": [
    "from huggingface_hub import notebook_login\n",
    "\n",
    "notebook_login()"
   ]
  },
  {
   "cell_type": "markdown",
   "metadata": {
    "id": "7K-3_nya-Wru"
   },
   "source": [
    "## Notebook Configurations"
   ]
  },
  {
   "cell_type": "code",
   "execution_count": 9,
   "metadata": {
    "id": "SeIq1FrQ-Wru"
   },
   "outputs": [],
   "source": [
    "## LLAMA Versions\n",
    "LLAMA_2 = \"2-7b-chat\" # fits t4 on colab\n",
    "LLAMA_3_1 = \"3.1-8b-Instruct\" # better performing but needs a bigger GPU. Needs access request approved on HF-Hub\n",
    "\n",
    "base_model_version =  LLAMA_2# set to LLAMA_2 if you want to try this notebook on colab"
   ]
  },
  {
   "cell_type": "markdown",
   "metadata": {
    "id": "wah6KGf7-Wru"
   },
   "source": [
    "### Model and Dataset Configs"
   ]
  },
  {
   "cell_type": "code",
   "execution_count": 10,
   "metadata": {
    "id": "sUn7yyDsOwA5"
   },
   "outputs": [],
   "source": [
    "# The base model from the Hugging Face hub\n",
    "if base_model_version == LLAMA_3_1:\n",
    "    base_model_name =  \"meta-llama/Meta-Llama-3.1-8B-Instruct\"\n",
    "elif base_model_version == LLAMA_2:\n",
    "    base_model_name = \"NousResearch/Llama-2-7b-chat-hf\"\n",
    "else:\n",
    "    print(f\"This notebook is not setup for Base Model ={base_model_version}\")\n",
    "    base_model_name = \"ERROR\"\n",
    "\n",
    "# Dataset\n",
    "dataset_name = \"flytech/python-codes-25k\"\n",
    "\n",
    "# Name of the Instruction Tuned model\n",
    "output_dir = new_model = f\"llama-{base_model_version}-t2py-ft\""
   ]
  },
  {
   "cell_type": "markdown",
   "metadata": {
    "id": "4b33VqEH-Wrv"
   },
   "source": [
    "## Dataset Preparation"
   ]
  },
  {
   "cell_type": "code",
   "execution_count": 11,
   "metadata": {
    "colab": {
     "base_uri": "https://localhost:8080/"
    },
    "id": "XTkXsmX3Pp0y",
    "outputId": "7f650e1f-7e54-4526-ac2a-d74f7e8abc35"
   },
   "outputs": [
    {
     "data": {
      "application/vnd.jupyter.widget-view+json": {
       "model_id": "638669d7d48a4da5ae4b2c4d28c4bee3",
       "version_major": 2,
       "version_minor": 0
      },
      "text/plain": [
       "README.md: 0.00B [00:00, ?B/s]"
      ]
     },
     "metadata": {},
     "output_type": "display_data"
    }
   ],
   "source": [
    "# Load dataset (you can process it here)\n",
    "dataset = load_dataset(dataset_name, split=\"train\",cache_dir='/workspace')"
   ]
  },
  {
   "attachments": {},
   "cell_type": "markdown",
   "metadata": {
    "id": "U-r0_MhV-Wrv"
   },
   "source": [
    "### What is LLaMA again?\n",
    "\n",
    "**[LLaMA (Large Language Model Meta AI)](https://ai.meta.com/blog/large-language-model-llama-meta-ai/)**, is a state-of-the-art foundational large language model designed to help researchers advance their work in this subfield of AI. Smaller, more performant models such as LLaMA enable others in the research community who don’t have access to large amounts of infrastructure to study these models, further democratizing access in this important, fast-changing field.\n",
    "Within this series, Meta has released several versions of different sizes. They have progressively improved in their performance while adjusting how the inputs and prompt formats work.\n",
    "\n",
    "This notebook works for two smaller sized LLaMAs, version ``2-7B`` and ``3.1-8B``.\n",
    "\n",
    "### General Format for Instructions for LLaMA Models\n",
    "**LLaMA 2** :\n",
    "```\n",
    "[INST]<<SYS>>{system text}<</SYS>>\n",
    "{user text}[/INST]\n",
    "{assistant response}\n",
    "```\n",
    "\n",
    "**LLaMA 3.1**:\n",
    "```\n",
    "<|start_header_id|>system<|end_header_id|>\n",
    "{system text}\n",
    "<|eot_id|>\\n<|start_header_id|>user<|end_header_id|>\n",
    "{user text}<|eot_id|>\n",
    "<|start_header_id|>assistant<|end_header_id|>\n",
    "{assistant response}\n",
    "...\n",
    "```\n",
    "\n",
    "We will leverage these formats to prepare our **Instruction Dataset**."
   ]
  },
  {
   "cell_type": "code",
   "execution_count": 12,
   "metadata": {
    "id": "siK_g2gvK2Jr"
   },
   "outputs": [],
   "source": [
    "# [Txt2Python]\n",
    "def fstr_llama_template(model_version,question,output=''):\n",
    "    template_3_1 = \"<|start_header_id|>system<|end_header_id|>\\nConvert the following textual question into python code.<|eot_id|>\\n<|start_header_id|>user<|end_header_id|>\\nquestion:{question}\\noutput:<|eot_id|>\\n<|start_header_id|>assistant<|end_header_id|>\"\n",
    "    template_3_1_output = \"{output}<|end_of_text|>\"\n",
    "    template_2_0 = \"[INST]<<SYS>>Convert the following textual question into python code.<</SYS>>\\nquestion:{question}\\noutput:[/INST]\"\n",
    "    template_2_0_output = \"{output}</s>\"\n",
    "    if model_version == LLAMA_3_1:\n",
    "        if output !='':\n",
    "            return eval(f'f\"\"\"{template_3_1+template_3_1_output}\"\"\"')\n",
    "        else:\n",
    "            return eval(f'f\"\"\"{template_3_1}\"\"\"')\n",
    "    elif model_version == LLAMA_2:\n",
    "        if output !='':\n",
    "            return eval(f'f\"\"\"{template_2_0+template_2_0_output}\"\"\"')\n",
    "        else:\n",
    "            return eval(f'f\"\"\"{template_2_0}\"\"\"')\n",
    "    else:\n",
    "        print(f\"This notebook is not setup for Base Model ={template}\")\n",
    "        return \"ERROR\""
   ]
  },
  {
   "cell_type": "code",
   "execution_count": 13,
   "metadata": {
    "id": "X5jP_De4-Wrv"
   },
   "outputs": [],
   "source": [
    "instruction_formatted_dataset = []\n",
    "DATASET_SIZE = 1000 #25000 # if you have more GPU RAM\n",
    "for row in dataset.select(range(DATASET_SIZE)):\n",
    "    instruction_formatted_dataset.append(\n",
    "        {'text':fstr_llama_template(base_model_version,row['instruction'],row['output'])}\n",
    "    )"
   ]
  },
  {
   "cell_type": "code",
   "execution_count": 14,
   "metadata": {
    "id": "_QWV8CZY-Wrv"
   },
   "outputs": [],
   "source": [
    "# Transform List to Dataset Object\n",
    "instruct_datset = Dataset.from_list(instruction_formatted_dataset)"
   ]
  },
  {
   "cell_type": "code",
   "execution_count": 15,
   "metadata": {
    "colab": {
     "base_uri": "https://localhost:8080/"
    },
    "id": "IwkoL88H-Wrv",
    "outputId": "d954283e-2b9d-4e9c-e3c1-38ff9fd45a3b"
   },
   "outputs": [
    {
     "name": "stdout",
     "output_type": "stream",
     "text": [
      "[INST]<<SYS>>Convert the following textual question into python code.<</SYS>>\n",
      "question:Help me set up my daily to-do list!\n",
      "output:[/INST]```python\n",
      "tasks = []\n",
      "while True:\n",
      "    task = input('Enter a task or type 'done' to finish: ')\n",
      "    if task == 'done': break\n",
      "    tasks.append(task)\n",
      "print(f'Your to-do list for today: {tasks}')\n",
      "```</s>\n"
     ]
    }
   ],
   "source": [
    "# Get one sample data point\n",
    "print(instruct_datset[0]['text'])"
   ]
  },
  {
   "cell_type": "markdown",
   "metadata": {
    "id": "ce6Ccd_R-Wrv"
   },
   "source": [
    "## Configurations"
   ]
  },
  {
   "cell_type": "markdown",
   "metadata": {
    "id": "JyHpZ4OU-Wrv"
   },
   "source": [
    "### Quantization"
   ]
  },
  {
   "cell_type": "code",
   "execution_count": 16,
   "metadata": {
    "id": "loZQVelTPpvi"
   },
   "outputs": [],
   "source": [
    "bnb_config = BitsAndBytesConfig(\n",
    "    load_in_4bit=True, # 4-bit precision base model loading\n",
    "    bnb_4bit_quant_type=\"nf4\", #quantization type\n",
    "    bnb_4bit_compute_dtype=torch.bfloat16,\n",
    "    bnb_4bit_use_double_quant=True,\n",
    "    bnb_4bit_quant_storage=torch.bfloat16\n",
    ")"
   ]
  },
  {
   "cell_type": "markdown",
   "metadata": {
    "id": "-iJt1-oY-Wrv"
   },
   "source": [
    "### QLoRA"
   ]
  },
  {
   "cell_type": "code",
   "execution_count": 17,
   "metadata": {
    "id": "IIPQRoPROv7A"
   },
   "outputs": [],
   "source": [
    "# LoRA rank dimension\n",
    "lora_r = 64\n",
    "\n",
    "# Alpha-LoRA for scaling\n",
    "lora_alpha = 64\n",
    "\n",
    "# Dropout for LoRA\n",
    "lora_dropout = 0.1"
   ]
  },
  {
   "cell_type": "code",
   "execution_count": 18,
   "metadata": {
    "id": "Ae4UrCRUPyGC"
   },
   "outputs": [],
   "source": [
    "# Load LoRA configuration\n",
    "peft_config = LoraConfig(\n",
    "    lora_alpha=lora_alpha,\n",
    "    lora_dropout=lora_dropout,\n",
    "    r=lora_r,\n",
    "    bias=\"none\",\n",
    "    task_type=\"CAUSAL_LM\",\n",
    ")"
   ]
  },
  {
   "cell_type": "markdown",
   "metadata": {
    "id": "32MVQnCC-Wrw"
   },
   "source": [
    "### Fine-Tuning Configs"
   ]
  },
  {
   "cell_type": "code",
   "execution_count": 19,
   "metadata": {
    "id": "Bvn_obk7PkvG"
   },
   "outputs": [],
   "source": [
    "# Maximum sequence length to use\n",
    "max_seq_length = 1028\n",
    "\n",
    "# pack multiple examples in the same input sequence to increase efficiency\n",
    "packing = False\n",
    "\n",
    "# Load the entire model on the GPU 0\n",
    "device_map = {\"\": 0}"
   ]
  },
  {
   "cell_type": "markdown",
   "metadata": {
    "id": "VMLorp2E-Wrw"
   },
   "source": [
    "### Training Setup Configs"
   ]
  },
  {
   "cell_type": "code",
   "execution_count": 20,
   "metadata": {
    "id": "k92Ac3w5Ovz0"
   },
   "outputs": [],
   "source": [
    "# Number of training epochs\n",
    "num_train_epochs = 1\n",
    "\n",
    "fp16 = False\n",
    "bf16 = False # True for A100\n",
    "\n",
    "# Batch size per GPU for training\n",
    "per_device_train_batch_size = 2 # increase to 4 for A100\n",
    "\n",
    "# batch size per GPU for eval\n",
    "per_device_eval_batch_size = 4\n",
    "\n",
    "# update steps to accumulate the gradients\n",
    "gradient_accumulation_steps = 1\n",
    "\n",
    "gradient_checkpointing = True\n",
    "max_grad_norm = 0.3\n",
    "learning_rate = 2e-4\n",
    "weight_decay = 0.001\n",
    "\n",
    "# optimizer\n",
    "optim = \"paged_adamw_32bit\"\n",
    "\n",
    "# learning rate schedule\n",
    "lr_scheduler_type = \"cosine\"\n",
    "max_steps = -1 # setting this will override num_train_epochs, do not change\n",
    "warmup_ratio = 0.03\n",
    "\n",
    "# speeds up training considerably by grouping samples by length\n",
    "group_by_length = True\n",
    "save_steps = 0\n",
    "logging_steps = 25"
   ]
  },
  {
   "cell_type": "markdown",
   "metadata": {
    "id": "iB8pVFfl-Wrw"
   },
   "source": [
    "## Load base model"
   ]
  },
  {
   "cell_type": "code",
   "execution_count": 21,
   "metadata": {
    "colab": {
     "base_uri": "https://localhost:8080/",
     "height": 49,
     "referenced_widgets": [
      "9ba3f13606684d969c73d7b75c2043fc",
      "ea834c3b65dc4df5933e49cbe2832d45",
      "399f5e9c613e419bae5b8569fe00de12",
      "355e5ad87c7d447f867ee364c2f06997",
      "28307fabbae347b897fc216793bfb7f7",
      "7d3bd0ac52424e91af73a58ec8d02943",
      "ab68e39be2624da582ce363fcd0c946e",
      "b11c917bf1d94462825a8fc3908dbcde",
      "673671691ee241ea935b8e89f206d074",
      "a2bfda6fd9ce4089b8f1357723522d2e",
      "332594755ee34a5bbc4fba920e8cc269"
     ]
    },
    "id": "OWCW3Px2Pybi",
    "outputId": "043e619c-6a2d-4c45-922d-cf410ceb8466"
   },
   "outputs": [
    {
     "data": {
      "application/vnd.jupyter.widget-view+json": {
       "model_id": "4b1bab9f3a7e4833b79e065306a35f02",
       "version_major": 2,
       "version_minor": 0
      },
      "text/plain": [
       "Loading checkpoint shards:   0%|          | 0/2 [00:00<?, ?it/s]"
      ]
     },
     "metadata": {},
     "output_type": "display_data"
    }
   ],
   "source": [
    "# this will take some time to download\n",
    "model = AutoModelForCausalLM.from_pretrained(\n",
    "    base_model_name,\n",
    "    quantization_config=bnb_config,\n",
    "    device_map=device_map,\n",
    "    cache_dir='/workspace'\n",
    ")\n",
    "\n",
    "model.config.use_cache = False\n",
    "model.config.pretraining_tp = 1"
   ]
  },
  {
   "cell_type": "markdown",
   "metadata": {
    "id": "_hwtnEIxVibC"
   },
   "source": [
    "## Load LLaMA tokenizer"
   ]
  },
  {
   "cell_type": "code",
   "execution_count": 22,
   "metadata": {
    "id": "WoDYCueiPyZG"
   },
   "outputs": [],
   "source": [
    "tokenizer = AutoTokenizer.from_pretrained(base_model_name, trust_remote_code=True,cache_dir='/workspace')\n",
    "tokenizer.pad_token = tokenizer.eos_token\n",
    "tokenizer.padding_side = \"right\""
   ]
  },
  {
   "cell_type": "markdown",
   "metadata": {
    "id": "XuE0Kgq8-Wrw"
   },
   "source": [
    "## Set training parameters"
   ]
  },
  {
   "cell_type": "code",
   "execution_count": 24,
   "metadata": {
    "id": "9tnS6J-0QDbs"
   },
   "outputs": [],
   "source": [
    "training_arguments = TrainingArguments(\n",
    "    output_dir=output_dir,\n",
    "    num_train_epochs=num_train_epochs,\n",
    "    per_device_train_batch_size=per_device_train_batch_size,\n",
    "    gradient_accumulation_steps=gradient_accumulation_steps,\n",
    "    optim=optim,\n",
    "    save_steps=save_steps,\n",
    "    logging_steps=logging_steps,\n",
    "    learning_rate=learning_rate,\n",
    "    weight_decay=weight_decay,\n",
    "    fp16=fp16,\n",
    "    bf16=bf16,\n",
    "    max_grad_norm=max_grad_norm,\n",
    "    max_steps=max_steps,\n",
    "    warmup_ratio=warmup_ratio,\n",
    "    group_by_length=group_by_length,\n",
    "    lr_scheduler_type=lr_scheduler_type,\n",
    "    report_to=\"tensorboard\",\n",
    "    remove_unused_columns=True\n",
    ")"
   ]
  },
  {
   "cell_type": "markdown",
   "metadata": {
    "id": "Tv-zYhKg-Wrw"
   },
   "source": [
    "## Set Supervised Fine-Tuning Parameters"
   ]
  },
  {
   "cell_type": "code",
   "execution_count": 25,
   "metadata": {
    "colab": {
     "base_uri": "https://localhost:8080/",
     "height": 113,
     "referenced_widgets": [
      "bffa47a9e8174029b576700d98374f27",
      "c35957b970b5466a9016ff325629d1b9",
      "5a7e34af585a4f2ca0222834a5e32bc2",
      "425035d2373743c9b270e1ddede569be",
      "8a7deb73281a43c0ac4fee47e0c6091a",
      "1b9879349e3c44c49b9d47b2698950f8",
      "053c9333e1e74d8ba536fdea0635fe5c",
      "ec028cc8f97c4e938de5e4ad54c9d87d",
      "8a71487947e340eeafc4ad6a5af47e83",
      "c85adabf95814a699811115c9db011a0",
      "48408078b2d0440e84585834cea6d36f",
      "8e91fbb0ed564f8394bde17b04e4325c",
      "eaf4aa37f2b14b50b3862cfcda216225",
      "0aa8ef72d2aa46bb9fa1d0aee428c469",
      "17655cdd60e24298912cca01a99ef5d7",
      "58cb0372948f470e93613ba4ade17326",
      "bce6c5bbebb648419f50f6caafd2fd28",
      "3ea40d3478b54ad9bf281a328a8cb9b4",
      "8ab1d37b062c4be3b759254cd452f9b8",
      "386e810926f5437aa7efff94df94d8a0",
      "61eff07c5e1a4f5fbe68bcb705c074c3",
      "25d02e7dd4f04777a7c90bb6b985c210",
      "1d0581c0cf3a4f169f33901fb2f46af5",
      "f2f12507a98d4c32b909704fca538498",
      "88bd5ff953194b82b4207b7ac594c32e",
      "669c1be3a57c43369bfd94e3e86d0c36",
      "34533d9ad7ac4997a0cea82b852f2229",
      "e0877f6c048f4e98bd533b3ac7c7c9e0",
      "e3b67d34251f40bbb50f687ef4354e97",
      "fe9735fd961847de9e1f7f816c7afb75",
      "ea99b69f4d3446f3ab7504454b424bd8",
      "82b01c80dc774480a5fbffb2cb31df4e",
      "7b9a310a0d6249c7be4ed9b555d2eec3"
     ]
    },
    "id": "XnuBX8obQDYT",
    "outputId": "a4acd085-d8c1-462d-ebb9-e17066376740"
   },
   "outputs": [
    {
     "data": {
      "application/vnd.jupyter.widget-view+json": {
       "model_id": "79bff9ffa0c24879b396bf1f6e3666aa",
       "version_major": 2,
       "version_minor": 0
      },
      "text/plain": [
       "Adding EOS to train dataset:   0%|          | 0/1000 [00:00<?, ? examples/s]"
      ]
     },
     "metadata": {},
     "output_type": "display_data"
    },
    {
     "data": {
      "application/vnd.jupyter.widget-view+json": {
       "model_id": "2ebb0e5bf209452fa004fcf43d1618a6",
       "version_major": 2,
       "version_minor": 0
      },
      "text/plain": [
       "Tokenizing train dataset:   0%|          | 0/1000 [00:00<?, ? examples/s]"
      ]
     },
     "metadata": {},
     "output_type": "display_data"
    },
    {
     "data": {
      "application/vnd.jupyter.widget-view+json": {
       "model_id": "29ceca67909e4b08aeb10b21c7c3f3ce",
       "version_major": 2,
       "version_minor": 0
      },
      "text/plain": [
       "Truncating train dataset:   0%|          | 0/1000 [00:00<?, ? examples/s]"
      ]
     },
     "metadata": {},
     "output_type": "display_data"
    }
   ],
   "source": [
    "trainer = SFTTrainer(\n",
    "    model=model,\n",
    "    train_dataset=instruct_datset,\n",
    "    peft_config=peft_config,\n",
    "    args=training_arguments,\n",
    ")"
   ]
  },
  {
   "cell_type": "markdown",
   "metadata": {
    "id": "DLFfnPlw-Wrx"
   },
   "source": [
    "## Time to Fine Tune our Text2Python LLaMA"
   ]
  },
  {
   "cell_type": "code",
   "execution_count": 26,
   "metadata": {
    "colab": {
     "base_uri": "https://localhost:8080/",
     "height": 486,
     "referenced_widgets": [
      "5f0a3e69ffd046c4adcc87c80559e33f",
      "7bce6e6555844c28863edd25e1ea1ee1",
      "ae6596d744894a14ae135f765a15d1fe",
      "88be5dc3cfb94d75ae483e8bcc31e470",
      "52836f0a2ec34b79911f109da9b5c722",
      "ec5c4e1a7a17450aa14319880abc1312",
      "24d502bdd1af4ce6bb082249c06d1ea0",
      "82e04b742e244e239c2d277b02d92c97",
      "5054ee2ab077426fa2b908879e1e8cd2",
      "80da8a98da0e4e7d9da3d635efb12a86",
      "5d66a2194cd049d7a3e3aacd345270ba"
     ]
    },
    "id": "A80dHFDXQDVH",
    "outputId": "b3b522a9-a894-4bae-fdb3-1e2c3e498137"
   },
   "outputs": [
    {
     "name": "stdout",
     "output_type": "stream",
     "text": [
      "{'loss': 1.6432, 'grad_norm': 2.3384714126586914, 'learning_rate': 0.00019983011763899673, 'num_tokens': 7598.0, 'mean_token_accuracy': 0.7280278921127319, 'epoch': 0.05}\n",
      "{'loss': 0.7669, 'grad_norm': 1.2205456495285034, 'learning_rate': 0.00019758460594972068, 'num_tokens': 11859.0, 'mean_token_accuracy': 0.8340024781227112, 'epoch': 0.1}\n",
      "{'loss': 0.6662, 'grad_norm': 0.49444037675857544, 'learning_rate': 0.00019278563861498723, 'num_tokens': 18957.0, 'mean_token_accuracy': 0.8404974913597107, 'epoch': 0.15}\n",
      "{'loss': 0.6288, 'grad_norm': 0.9828441739082336, 'learning_rate': 0.00018555878820963013, 'num_tokens': 23056.0, 'mean_token_accuracy': 0.8561684083938599, 'epoch': 0.2}\n",
      "{'loss': 0.6174, 'grad_norm': 0.7831445336341858, 'learning_rate': 0.0001760931567112291, 'num_tokens': 29488.0, 'mean_token_accuracy': 0.852472972869873, 'epoch': 0.25}\n",
      "{'loss': 0.5975, 'grad_norm': 0.8687554597854614, 'learning_rate': 0.0001646364273476067, 'num_tokens': 33312.0, 'mean_token_accuracy': 0.8641371250152587, 'epoch': 0.3}\n",
      "{'loss': 0.6114, 'grad_norm': 0.46325668692588806, 'learning_rate': 0.00015148838357320537, 'num_tokens': 40782.0, 'mean_token_accuracy': 0.8504007148742676, 'epoch': 0.35}\n",
      "{'loss': 0.6483, 'grad_norm': 0.7113425135612488, 'learning_rate': 0.0001369930647605852, 'num_tokens': 44991.0, 'mean_token_accuracy': 0.8597455906867981, 'epoch': 0.4}\n",
      "{'loss': 0.72, 'grad_norm': 0.6676318645477295, 'learning_rate': 0.0001215297638657875, 'num_tokens': 52625.0, 'mean_token_accuracy': 0.8333046698570251, 'epoch': 0.45}\n",
      "{'loss': 0.5232, 'grad_norm': 0.5478682518005371, 'learning_rate': 0.00010550310262789649, 'num_tokens': 56937.0, 'mean_token_accuracy': 0.8759373688697815, 'epoch': 0.5}\n",
      "{'loss': 0.5962, 'grad_norm': 0.684468150138855, 'learning_rate': 8.933244400090937e-05, 'num_tokens': 64341.0, 'mean_token_accuracy': 0.8597473526000976, 'epoch': 0.55}\n",
      "{'loss': 0.5826, 'grad_norm': 0.7787359356880188, 'learning_rate': 7.344091885838948e-05, 'num_tokens': 68141.0, 'mean_token_accuracy': 0.8757558155059815, 'epoch': 0.6}\n",
      "{'loss': 0.5634, 'grad_norm': 0.7740278244018555, 'learning_rate': 5.82443541045415e-05, 'num_tokens': 74689.0, 'mean_token_accuracy': 0.8654161334037781, 'epoch': 0.65}\n",
      "{'loss': 0.5539, 'grad_norm': 0.5884497761726379, 'learning_rate': 4.414039190520308e-05, 'num_tokens': 78557.0, 'mean_token_accuracy': 0.8721555876731872, 'epoch': 0.7}\n",
      "{'loss': 0.5612, 'grad_norm': 0.636274516582489, 'learning_rate': 3.149808475129452e-05, 'num_tokens': 85755.0, 'mean_token_accuracy': 0.8620762419700623, 'epoch': 0.75}\n",
      "{'loss': 0.5244, 'grad_norm': 0.6744198799133301, 'learning_rate': 2.0648238616356332e-05, 'num_tokens': 89859.0, 'mean_token_accuracy': 0.877808735370636, 'epoch': 0.8}\n",
      "{'loss': 0.599, 'grad_norm': 0.6260887980461121, 'learning_rate': 1.1874756894740135e-05, 'num_tokens': 96825.0, 'mean_token_accuracy': 0.8565443086624146, 'epoch': 0.85}\n",
      "{'loss': 0.5103, 'grad_norm': 0.5723575353622437, 'learning_rate': 5.407211620009544e-06, 'num_tokens': 100988.0, 'mean_token_accuracy': 0.882807240486145, 'epoch': 0.9}\n",
      "{'loss': 0.5326, 'grad_norm': 0.5665680766105652, 'learning_rate': 1.4148363493766802e-06, 'num_tokens': 108323.0, 'mean_token_accuracy': 0.8709511280059814, 'epoch': 0.95}\n",
      "{'loss': 0.5419, 'grad_norm': 1.028254747390747, 'learning_rate': 2.0978998601206556e-09, 'num_tokens': 112550.0, 'mean_token_accuracy': 0.8873267436027527, 'epoch': 1.0}\n"
     ]
    },
    {
     "data": {
      "application/vnd.jupyter.widget-view+json": {
       "model_id": "3110a83f751a464ca9a4bee0f45d9d23",
       "version_major": 2,
       "version_minor": 0
      },
      "text/plain": [
       "config.json:   0%|          | 0.00/583 [00:00<?, ?B/s]"
      ]
     },
     "metadata": {},
     "output_type": "display_data"
    },
    {
     "name": "stdout",
     "output_type": "stream",
     "text": [
      "{'train_runtime': 186.3806, 'train_samples_per_second': 5.365, 'train_steps_per_second': 2.683, 'train_loss': 0.6494150886535645, 'epoch': 1.0}\n"
     ]
    },
    {
     "data": {
      "text/plain": [
       "TrainOutput(global_step=500, training_loss=0.6494150886535645, metrics={'train_runtime': 186.3806, 'train_samples_per_second': 5.365, 'train_steps_per_second': 2.683, 'total_flos': 4542055501725696.0, 'train_loss': 0.6494150886535645})"
      ]
     },
     "execution_count": 26,
     "metadata": {},
     "output_type": "execute_result"
    }
   ],
   "source": [
    "#25k samples take 1hr 10mins on avg on A100PCIe\n",
    "# 5k samples take about 15mins on avg on A100PCIe\n",
    "# 1k samples take about 20mins on avg on T4 colab\n",
    "trainer.train()"
   ]
  },
  {
   "cell_type": "markdown",
   "metadata": {
    "id": "yPemv52P-Wrx"
   },
   "source": [
    "## Save T2Python Model"
   ]
  },
  {
   "cell_type": "code",
   "execution_count": 28,
   "metadata": {
    "editable": true,
    "id": "h-986VjLQJ9L",
    "tags": []
   },
   "outputs": [],
   "source": [
    "trainer.model.save_pretrained(new_model)"
   ]
  },
  {
   "cell_type": "code",
   "execution_count": null,
   "metadata": {
    "colab": {
     "base_uri": "https://localhost:8080/",
     "height": 287
    },
    "id": "ONubz9j3f_x0",
    "outputId": "af370c84-1191-411c-d116-e00ba11976cb"
   },
   "outputs": [],
   "source": [
    "# Uncomment below snippet if you would like to persist training on huggingface repo\n",
    "# trainer.push_to_hub(commit_message=\"training_complete\",blocking=True)"
   ]
  },
  {
   "cell_type": "markdown",
   "metadata": {
    "id": "brU1oSNC-Wr1"
   },
   "source": [
    "## Let Us Convert Some Text to Python"
   ]
  },
  {
   "cell_type": "code",
   "execution_count": 32,
   "metadata": {},
   "outputs": [],
   "source": [
    "from IPython.display import display,Markdown"
   ]
  },
  {
   "cell_type": "code",
   "execution_count": 36,
   "metadata": {
    "colab": {
     "base_uri": "https://localhost:8080/"
    },
    "id": "183-upHe-Wr1",
    "outputId": "09561427-f519-4c1c-de66-a3031e69b6a0"
   },
   "outputs": [
    {
     "name": "stdout",
     "output_type": "stream",
     "text": [
      "Instruction=1\n",
      "Create a relational mapping between two arrays using python arr1 = [1, 2, 3]\n",
      "arr2 = [a, b, c]\n",
      "-------------------------\n",
      "Instruction=2\n",
      "Define a function in Python that takes three numbers as input and return the largest number\n",
      "-------------------------\n",
      "Instruction=3\n",
      "Write a python script to segregate a list of numbers into lists odd and even numbers list_of_numbers = [1, 2, 3, 4, 5, 6, 7, 8, 9]\n",
      "-------------------------\n",
      "Instruction=4\n",
      "Can you write a Python script to perform a Linear Search on a list of numbers? [1, 2, 3, 4, 5] 3\n",
      "-------------------------\n",
      "Instruction=5\n",
      "Serialize a list of dictionaries in Python [{'name':'John', 'age':30},\n",
      "{'name':'Paul', 'age':22}]\n",
      "-------------------------\n"
     ]
    }
   ],
   "source": [
    "# Sample a few Instructions\n",
    "test_instructions = list(dataset.shuffle().select(range(5))['instruction'])\n",
    "for idx,inst in enumerate(test_instructions):\n",
    "    print(f\"Instruction={idx+1}\")\n",
    "    print(inst)\n",
    "    print(\"-\"*25)"
   ]
  },
  {
   "cell_type": "code",
   "execution_count": 37,
   "metadata": {
    "colab": {
     "base_uri": "https://localhost:8080/",
     "height": 1000
    },
    "id": "bDUhM75ke2fm",
    "outputId": "a065787e-4fa1-4bd7-80eb-ebac622fbc0b"
   },
   "outputs": [
    {
     "name": "stdout",
     "output_type": "stream",
     "text": [
      "----INSTRUCT-TUNED-MODEL ----\n"
     ]
    },
    {
     "data": {
      "text/markdown": [
       "[INST]<<SYS>>Convert the following textual question into python code.<</SYS>>\n",
       "question:Create a relational mapping between two arrays using python arr1 = [1, 2, 3]\n",
       "arr2 = [a, b, c]\n",
       "output:[/INST]  ```python\n",
       "import numpy as np\n",
       "arr1 = np.array([1, 2, 3])\n",
       "arr2 = np.array(['a', 'b', 'c'])\n",
       "relationship = np.corrcoef(arr1, arr2)\n",
       "print(relationship)\n",
       "```\n",
       "In this example, we are using the `corrcoef` function from the NumPy library to calculate the correlation coefficient between two arrays. The `corrcoef` function takes two arrays as input and returns a tuple containing the correlation coefficient and its standard error.\n",
       "\n",
       "Note that the `corrcoef` function assumes that the arrays are of the same shape and size. If the arrays are of different shapes or sizes, you may need to use a different method to calculate the correlation coefficient."
      ],
      "text/plain": [
       "<IPython.core.display.Markdown object>"
      ]
     },
     "metadata": {},
     "output_type": "display_data"
    },
    {
     "name": "stdout",
     "output_type": "stream",
     "text": [
      "---- END ----\n",
      "----INSTRUCT-TUNED-MODEL ----\n"
     ]
    },
    {
     "data": {
      "text/markdown": [
       "[INST]<<SYS>>Convert the following textual question into python code.<</SYS>>\n",
       "question:Define a function in Python that takes three numbers as input and return the largest number\n",
       "output:[/INST]  ```python\n",
       "def largest_number(a, b, c):\n",
       "    return max(a, b, c)\n",
       "```\n",
       "This function takes three numbers as input and returns the largest number among them.\n",
       "```python\n",
       "largest_number(1, 2, 3) # Output: 3\n",
       "```\n",
       "You can also use the `max()` function to achieve the same result:\n",
       "```python\n",
       "def largest_number(a, b, c):\n",
       "    return max(a, b, c)\n",
       "```\n",
       "This function is more concise and easier to read."
      ],
      "text/plain": [
       "<IPython.core.display.Markdown object>"
      ]
     },
     "metadata": {},
     "output_type": "display_data"
    },
    {
     "name": "stdout",
     "output_type": "stream",
     "text": [
      "---- END ----\n",
      "----INSTRUCT-TUNED-MODEL ----\n"
     ]
    },
    {
     "data": {
      "text/markdown": [
       "[INST]<<SYS>>Convert the following textual question into python code.<</SYS>>\n",
       "question:Write a python script to segregate a list of numbers into lists odd and even numbers list_of_numbers = [1, 2, 3, 4, 5, 6, 7, 8, 9]\n",
       "output:[/INST]  ```python\n",
       "odd_list = []\n",
       "even_list = []\n",
       "for num in list_of_numbers:\n",
       "    if num % 2 == 0:\n",
       "        even_list.append(num)\n",
       "    else:\n",
       "        odd_list.append(num)\n",
       "```\n",
       "This script will iterate through the list of numbers and if the number is even, it will add it to the even list, otherwise it will add it to the odd list.\n",
       "\n",
       "You can also use the built-in `sorted()` function to sort the list and then use the `if __name__ == '__main__':` block to run the script.\n",
       "```python\n",
       "if __name__ == '__main__':\n",
       "    list_of_numbers = [1, 2, 3, 4, 5, 6, 7, 8, 9]\n",
       "    odd_list, even_list = sorted(list_of_numbers).split(set(list_of_numbers))\n",
       "    print(f'Odd List: {odd_list}')\n",
       "    print(f'Even List: {even_list}')\n",
       "```\n",
       "This will sort the list and then split it into two lists based on the parity of the numbers.\n",
       "\n",
       "You can also use the `math.isodd()` function to check if a number is odd or even.\n",
       "```python\n",
       "if __name__ == '__main__':\n",
       "    list_of_numbers = [1, 2, 3, 4, 5, 6, 7, 8, 9]\n",
       "    odd_list = [num for num in list_of_numbers if math.isodd(num)]\n",
       "    even_list = [num for num in list_of_numbers if math.iseven(num)]\n",
       "    print(f'Odd List: {odd_list}')\n",
       "    print(f'Even List: {even_list}')\n",
       "```\n",
       "This will iterate through the list and check if the number is odd or even and then add it to the appropriate list."
      ],
      "text/plain": [
       "<IPython.core.display.Markdown object>"
      ]
     },
     "metadata": {},
     "output_type": "display_data"
    },
    {
     "name": "stdout",
     "output_type": "stream",
     "text": [
      "---- END ----\n",
      "----INSTRUCT-TUNED-MODEL ----\n"
     ]
    },
    {
     "data": {
      "text/markdown": [
       "[INST]<<SYS>>Convert the following textual question into python code.<</SYS>>\n",
       "question:Can you write a Python script to perform a Linear Search on a list of numbers? [1, 2, 3, 4, 5] 3\n",
       "output:[/INST]  ```python\n",
       "def linear_search(arr, target):\n",
       "    for i in range(len(arr)):\n",
       "        if arr[i] == target:\n",
       "            return i\n",
       "    return -1\n",
       "```</s>\n",
       "This script defines a linear search function that takes a list of numbers and a target value as input. It iterates through the list and checks if the target value is present in the list. If it is, it returns the index of the value. If it's not, it returns -1.\n",
       "```python\n",
       "arr = [1, 2, 3, 4, 5]\n",
       "target = 3\n",
       "result = linear_search(arr, target)\n",
       "print(result)\n",
       "```</s>\n",
       "This code will print 2, indicating that the target value 3 is present in the list at index 2."
      ],
      "text/plain": [
       "<IPython.core.display.Markdown object>"
      ]
     },
     "metadata": {},
     "output_type": "display_data"
    },
    {
     "name": "stdout",
     "output_type": "stream",
     "text": [
      "---- END ----\n",
      "----INSTRUCT-TUNED-MODEL ----\n"
     ]
    },
    {
     "data": {
      "text/markdown": [
       "[INST]<<SYS>>Convert the following textual question into python code.<</SYS>>\n",
       "question:Serialize a list of dictionaries in Python [{'name':'John', 'age':30},\n",
       "{'name':'Paul', 'age':22}]\n",
       "output:[/INST]  ```python\n",
       "import json\n",
       "list_of_dicts = [{'name': 'John', 'age': 30}, {'name': 'Paul', 'age': 22}]\n",
       "json_string = json.dumps(list_of_dicts)\n",
       "print(json_string)\n",
       "```\n",
       "This will output the following JSON string:\n",
       "```json\n",
       "[{\"name\": \"John\", \"age\": 30}, {\"name\": \"Paul\", \"age\": 22}]\n",
       "```\n",
       "You can also use `json.dump()` instead of `json.dumps()` if you want to write the JSON to a file.\n",
       "```python\n",
       "import json\n",
       "list_of_dicts = [{'name': 'John', 'age': 30}, {'name': 'Paul', 'age': 22}]\n",
       "with open('list_of_dicts.json', 'w') as f:\n",
       "    json.dump(list_of_dicts, f)\n",
       "```\n",
       "This will write the JSON to a file named `list_of_dicts.json`."
      ],
      "text/plain": [
       "<IPython.core.display.Markdown object>"
      ]
     },
     "metadata": {},
     "output_type": "display_data"
    },
    {
     "name": "stdout",
     "output_type": "stream",
     "text": [
      "---- END ----\n"
     ]
    }
   ],
   "source": [
    "for instruction in test_instructions:\n",
    "    prompt = fstr_llama_template(base_model_version,instruction)\n",
    "    inputs = tokenizer(prompt, return_tensors=\"pt\", return_token_type_ids=False).to(\"cuda:0\")\n",
    "    print(\"----INSTRUCT-TUNED-MODEL ----\")\n",
    "    outputs = trainer.model.generate(**inputs,max_new_tokens=500, temperature=0.2)\n",
    "    display(Markdown((tokenizer.decode(outputs[0], skip_special_tokens=True))))\n",
    "    print(\"---- END ----\")"
   ]
  },
  {
   "cell_type": "markdown",
   "metadata": {},
   "source": [
    "---\n",
    "\n",
    "## Load Model From HuggingFace [Optional] "
   ]
  },
  {
   "cell_type": "code",
   "execution_count": 38,
   "metadata": {
    "colab": {
     "base_uri": "https://localhost:8080/",
     "height": 136,
     "referenced_widgets": [
      "c8dcd49b8ab949e3810d246eae881e4a",
      "1ed471bfadbe499882d40dda7b5aadc1",
      "887a4c16ac0f4d5fa4dd71ca7a6747e9",
      "9b22f5c5e41a45d081aa2800bec66b6e",
      "5804ae0353dd49ddba981950e9b9dcc1",
      "4f0c7b2409f7497580c466a814a3281d",
      "41655b779fa84816bd7f77cb47b02b02",
      "a18600327d704bee803ec035c8a6b4ba",
      "da282dce05154c69bfceda0e642596cc",
      "ab64d7049acf422ab22a20194a652731",
      "d911edc0514146e7a69f282839c560e2",
      "3952e9d63f8c4407aa51969869ddd0a7",
      "2f665d7da94d46e3a0c27d06e2e09b4d",
      "9e033b8a0a704ddd9db75f236a7ddb08",
      "380511ae19cf456e8be3b65b47e6648d",
      "f3b694d1b8ef440596b171adbb86db61",
      "041840c07fe54aa29121d8b78514bf1c",
      "13451a5aec724d1a8a2c738ee6854046",
      "df78847280b0413e8295032ee0e04118",
      "03283ca3693845efa6ca69605b1f4347",
      "bda32370118d4ec5a26b78650cb66c4c",
      "4eddfb5422eb4996827f272d34514654"
     ]
    },
    "id": "0wl6mUi_-Wr1",
    "outputId": "7595017f-696c-41c4-d6ac-0a7fd61fac21"
   },
   "outputs": [
    {
     "data": {
      "application/vnd.jupyter.widget-view+json": {
       "model_id": "b69fa6d675574603913201fdb221e5c0",
       "version_major": 2,
       "version_minor": 0
      },
      "text/plain": [
       "adapter_config.json:   0%|          | 0.00/836 [00:00<?, ?B/s]"
      ]
     },
     "metadata": {},
     "output_type": "display_data"
    },
    {
     "name": "stderr",
     "output_type": "stream",
     "text": [
      "/usr/local/lib/python3.10/dist-packages/transformers/models/auto/auto_factory.py:492: FutureWarning: The `use_auth_token` argument is deprecated and will be removed in v5 of Transformers. Please use `token` instead.\n",
      "  warnings.warn(\n"
     ]
    },
    {
     "data": {
      "application/vnd.jupyter.widget-view+json": {
       "model_id": "d99ed072d5fe4dd2902d0e4ce62d6760",
       "version_major": 2,
       "version_minor": 0
      },
      "text/plain": [
       "Loading checkpoint shards:   0%|          | 0/2 [00:00<?, ?it/s]"
      ]
     },
     "metadata": {},
     "output_type": "display_data"
    }
   ],
   "source": [
    "lora_config = LoraConfig.from_pretrained(f\"raghavbali/{new_model}\",cache_dir='/workspace')\n",
    "# hf_tokenizer = AutoTokenizer.from_pretrained(f\"raghavbali/{new_model}\")\n",
    "\n",
    "hf_ft_model = AutoModelForCausalLM.from_pretrained(\n",
    "    lora_config.base_model_name_or_path,\n",
    "    quantization_config=bnb_config,\n",
    "    use_auth_token=True, #replace param with token if using transformers v5+\n",
    "    device_map=device_map,\n",
    "    cache_dir='/workspace')"
   ]
  },
  {
   "cell_type": "code",
   "execution_count": null,
   "metadata": {
    "id": "Nzj9rxliuGW7"
   },
   "outputs": [],
   "source": [
    "# # uncomment only if you have bigger than T4 GPU\n",
    "# this is for comparison only\n",
    "# base_model = AutoModelForCausalLM.from_pretrained(\n",
    "#     base_model_name,\n",
    "#     quantization_config=bnb_config,\n",
    "#     device_map=device_map,\n",
    "#     use_auth_token=True,\n",
    "#     cache_dir='/workspace'\n",
    "# )"
   ]
  },
  {
   "cell_type": "markdown",
   "metadata": {
    "id": "LTQrGyvXuZXX"
   },
   "source": [
    "### Apply LoRA Adaptors"
   ]
  },
  {
   "cell_type": "code",
   "execution_count": 39,
   "metadata": {
    "colab": {
     "base_uri": "https://localhost:8080/"
    },
    "id": "x3e1upni-Wr1",
    "outputId": "62ef3144-9851-4cf1-f8ce-6dd42bd39dce"
   },
   "outputs": [
    {
     "name": "stdout",
     "output_type": "stream",
     "text": [
      "torch.float16\n",
      "6771970048\n"
     ]
    }
   ],
   "source": [
    "hf_ft_peft_model = get_peft_model(hf_ft_model, lora_config)\n",
    "print(hf_ft_peft_model.dtype)\n",
    "print(hf_ft_model.num_parameters())"
   ]
  },
  {
   "cell_type": "code",
   "execution_count": 40,
   "metadata": {
    "id": "SJJrPHTQ-Wr1"
   },
   "outputs": [],
   "source": [
    "from IPython.display import display, Markdown"
   ]
  },
  {
   "cell_type": "code",
   "execution_count": 41,
   "metadata": {
    "colab": {
     "base_uri": "https://localhost:8080/",
     "height": 1000
    },
    "id": "KyVz7X0g-Wr1",
    "outputId": "45c5a8ff-7fad-4f7c-b466-6d96a027fd39"
   },
   "outputs": [
    {
     "name": "stdout",
     "output_type": "stream",
     "text": [
      "----INSTRUCT-TUNED-MODEL ----\n"
     ]
    },
    {
     "data": {
      "text/markdown": [
       "[INST]<<SYS>>Convert the following textual question into python code.<</SYS>>\n",
       "question:Create a relational mapping between two arrays using python arr1 = [1, 2, 3]\n",
       "arr2 = [a, b, c]\n",
       "output:[/INST]  To create a relational mapping between two arrays in Python, you can use the `zip()` function. Here's an example:\n",
       "```\n",
       "arr1 = [1, 2, 3]\n",
       "arr2 = ['a', 'b', 'c']\n",
       "\n",
       "result = [i + j for i, j in zip(arr1, arr2)]\n",
       "\n",
       "print(result)  # [1 + 'a', 2 + 'b', 3 + 'c']\n",
       "```\n",
       "The `zip()` function takes two or more iterables as input and returns an iterator that generates tuples of corresponding elements from the input iterables. In this case, we pass `arr1` and `arr2` as arguments to `zip()`, and then use a list comprehension to create a new list `result` that contains the relational mapping between the two arrays.\n",
       "\n",
       "Alternatively, you can use the `map()` function to create the"
      ],
      "text/plain": [
       "<IPython.core.display.Markdown object>"
      ]
     },
     "metadata": {},
     "output_type": "display_data"
    },
    {
     "name": "stdout",
     "output_type": "stream",
     "text": [
      "---- END ----\n",
      "----INSTRUCT-TUNED-MODEL ----\n"
     ]
    },
    {
     "data": {
      "text/markdown": [
       "[INST]<<SYS>>Convert the following textual question into python code.<</SYS>>\n",
       "question:Define a function in Python that takes three numbers as input and return the largest number\n",
       "output:[/INST]  Sure! Here is a possible implementation of a function in Python that takes three numbers as input and returns the largest of them:\n",
       "```\n",
       "def largest_number(a, b, c):\n",
       "    largest = max(a, b, c)\n",
       "    return largest\n",
       "```\n",
       "Here, `a`, `b`, and `c` are the three numbers passed as input to the function, and `largest` is a variable that stores the largest of the three numbers. The `max()` function is used to find the largest number among `a`, `b`, and `c`. Finally, the `return` statement returns the value of `largest`.\n",
       "\n",
       "Here's an example of how you could use this function:\n",
       "```\n",
       "print(largest_number(3, 4, 5))  # Output: 5\n",
       "```\n",
       "I hope this helps! Let me know if you have any questions."
      ],
      "text/plain": [
       "<IPython.core.display.Markdown object>"
      ]
     },
     "metadata": {},
     "output_type": "display_data"
    },
    {
     "name": "stdout",
     "output_type": "stream",
     "text": [
      "---- END ----\n",
      "----INSTRUCT-TUNED-MODEL ----\n"
     ]
    },
    {
     "data": {
      "text/markdown": [
       "[INST]<<SYS>>Convert the following textual question into python code.<</SYS>>\n",
       "question:Write a python script to segregate a list of numbers into lists odd and even numbers list_of_numbers = [1, 2, 3, 4, 5, 6, 7, 8, 9]\n",
       "output:[/INST]  Sure! Here is a Python script that segregates a list of numbers into lists of odd and even numbers:\n",
       "```\n",
       "list_of_numbers = [1, 2, 3, 4, 5, 6, 7, 8, 9]\n",
       "\n",
       "# Define a function to check if a number is odd or even\n",
       "def is_odd(num):\n",
       "    return num % 2 == 1\n",
       "\n",
       "# Segregate the list into odd and even lists\n",
       "odd_numbers = [num for num in list_of_numbers if is_odd(num)]\n",
       "even_numbers = [num for num in list_of_numbers if not is_odd(num)]\n",
       "\n",
       "print(odd_numbers)  # Output: [1, 3, 5, 7]\n",
       "print(even_numbers)  # Output: [2, 4, 6, 8, 9"
      ],
      "text/plain": [
       "<IPython.core.display.Markdown object>"
      ]
     },
     "metadata": {},
     "output_type": "display_data"
    },
    {
     "name": "stdout",
     "output_type": "stream",
     "text": [
      "---- END ----\n",
      "----INSTRUCT-TUNED-MODEL ----\n"
     ]
    },
    {
     "data": {
      "text/markdown": [
       "[INST]<<SYS>>Convert the following textual question into python code.<</SYS>>\n",
       "question:Can you write a Python script to perform a Linear Search on a list of numbers? [1, 2, 3, 4, 5] 3\n",
       "output:[/INST]  Certainly! Here is a Python script that performs a linear search on a list of numbers:\n",
       "```\n",
       "def linear_search(numbers, target):\n",
       "    for i in range(len(numbers)):\n",
       "        if numbers[i] == target:\n",
       "            return i\n",
       "    return -1 # not found\n",
       "\n",
       "# Example usage\n",
       "numbers = [1, 2, 3, 4, 5]\n",
       "result = linear_search(numbers, 3)\n",
       "print(result) # output: 2\n",
       "```\n",
       "Explanation:\n",
       "\n",
       "* The `linear_search` function takes two arguments: `numbers` and `target`. `numbers` is a list of numbers, and `target` is the number we are searching for.\n",
       "* The function iterates over the `numbers` list using a `for` loop.\n",
       "* In each iteration, it checks if the current element in the list is equal to `target`."
      ],
      "text/plain": [
       "<IPython.core.display.Markdown object>"
      ]
     },
     "metadata": {},
     "output_type": "display_data"
    },
    {
     "name": "stdout",
     "output_type": "stream",
     "text": [
      "---- END ----\n",
      "----INSTRUCT-TUNED-MODEL ----\n"
     ]
    },
    {
     "data": {
      "text/markdown": [
       "[INST]<<SYS>>Convert the following textual question into python code.<</SYS>>\n",
       "question:Serialize a list of dictionaries in Python [{'name':'John', 'age':30},\n",
       "{'name':'Paul', 'age':22}]\n",
       "output:[/INST]  Sure! Here's the Python code to serialize a list of dictionaries:\n",
       "```python\n",
       "import json\n",
       "\n",
       "data = [\n",
       "    {'name': 'John', 'age': 30},\n",
       "    {'name': 'Paul', 'age': 22}\n",
       "]\n",
       "\n",
       "json_data = json.dumps(data)\n",
       "\n",
       "print(json_data)\n",
       "```\n",
       "The `json.dumps()` function takes a list of dictionaries as input and serializes them into a JSON string. The `print()` function then prints the resulting JSON string.\n",
       "\n",
       "Here's the output:\n",
       "```json\n",
       "[{\"name\": \"John\", \"age\": 30}, {\"name\": \"Paul\", \"age\": 22}]\n",
       "```\n",
       "Note that the serialized list of dictionaries is a JSON array, which is represented as `[...]` in the output."
      ],
      "text/plain": [
       "<IPython.core.display.Markdown object>"
      ]
     },
     "metadata": {},
     "output_type": "display_data"
    },
    {
     "name": "stdout",
     "output_type": "stream",
     "text": [
      "---- END ----\n"
     ]
    }
   ],
   "source": [
    "for instruction in test_instructions[:5]:\n",
    "    prompt = fstr_llama_template(base_model_version,instruction)\n",
    "    inputs = tokenizer(prompt, return_tensors=\"pt\", return_token_type_ids=False).to(\"cuda:0\")\n",
    "    print(\"----INSTRUCT-TUNED-MODEL ----\")\n",
    "    outputs = hf_ft_peft_model.generate(**inputs,max_new_tokens=200, temperature=0.2)\n",
    "    display(Markdown((tokenizer.decode(outputs[0], skip_special_tokens=True))))\n",
    "    print(\"---- END ----\")\n",
    "\n",
    "    # optional comparison with task specific fine-tuning\n",
    "    # prompt = fstr_llama_template(base_model_version,instruction)\n",
    "    # inputs = tokenizer(prompt, return_tensors=\"pt\", return_token_type_ids=False).to(\"cuda:0\")\n",
    "    # print(\"----TASK SPECIFIC-FINE-TUNED-MODEL ----\")\n",
    "    # outputs = base_model.generate(**inputs,max_new_tokens=200, temperature=0.2)\n",
    "    # display(Markdown((tokenizer.decode(outputs[0], skip_special_tokens=True))))\n",
    "    # print(\"---- END ----\")"
   ]
  },
  {
   "cell_type": "code",
   "execution_count": null,
   "metadata": {
    "id": "o2QyX0kJ-Wr2"
   },
   "outputs": [],
   "source": []
  }
 ],
 "metadata": {
  "accelerator": "GPU",
  "colab": {
   "gpuType": "T4",
   "provenance": []
  },
  "kernelspec": {
   "display_name": "Python 3 (ipykernel)",
   "language": "python",
   "name": "python3"
  },
  "language_info": {
   "codemirror_mode": {
    "name": "ipython",
    "version": 3
   },
   "file_extension": ".py",
   "mimetype": "text/x-python",
   "name": "python",
   "nbconvert_exporter": "python",
   "pygments_lexer": "ipython3",
   "version": "3.10.12"
  },
  "widgets": {
   "application/vnd.jupyter.widget-state+json": {
    "02925a2aff094425badaca15ba5a2ae0": {
     "model_module": "@jupyter-widgets/controls",
     "model_module_version": "1.5.0",
     "model_name": "HTMLModel",
     "state": {
      "_dom_classes": [],
      "_model_module": "@jupyter-widgets/controls",
      "_model_module_version": "1.5.0",
      "_model_name": "HTMLModel",
      "_view_count": null,
      "_view_module": "@jupyter-widgets/controls",
      "_view_module_version": "1.5.0",
      "_view_name": "HTMLView",
      "description": "",
      "description_tooltip": null,
      "layout": "IPY_MODEL_fa82f97ac413409da5f0ac54269fd03a",
      "placeholder": "​",
      "style": "IPY_MODEL_72cd4bdabf914c4ca313e9c5273cf6a8",
      "value": "\n<b>Pro Tip:</b> If you don't already have one, you can create a dedicated\n'notebooks' token with 'write' access, that you can then easily reuse for all\nnotebooks. </center>"
     }
    },
    "03283ca3693845efa6ca69605b1f4347": {
     "model_module": "@jupyter-widgets/controls",
     "model_module_version": "1.5.0",
     "model_name": "ProgressStyleModel",
     "state": {
      "_model_module": "@jupyter-widgets/controls",
      "_model_module_version": "1.5.0",
      "_model_name": "ProgressStyleModel",
      "_view_count": null,
      "_view_module": "@jupyter-widgets/base",
      "_view_module_version": "1.2.0",
      "_view_name": "StyleView",
      "bar_color": null,
      "description_width": ""
     }
    },
    "041840c07fe54aa29121d8b78514bf1c": {
     "model_module": "@jupyter-widgets/base",
     "model_module_version": "1.2.0",
     "model_name": "LayoutModel",
     "state": {
      "_model_module": "@jupyter-widgets/base",
      "_model_module_version": "1.2.0",
      "_model_name": "LayoutModel",
      "_view_count": null,
      "_view_module": "@jupyter-widgets/base",
      "_view_module_version": "1.2.0",
      "_view_name": "LayoutView",
      "align_content": null,
      "align_items": null,
      "align_self": null,
      "border": null,
      "bottom": null,
      "display": null,
      "flex": null,
      "flex_flow": null,
      "grid_area": null,
      "grid_auto_columns": null,
      "grid_auto_flow": null,
      "grid_auto_rows": null,
      "grid_column": null,
      "grid_gap": null,
      "grid_row": null,
      "grid_template_areas": null,
      "grid_template_columns": null,
      "grid_template_rows": null,
      "height": null,
      "justify_content": null,
      "justify_items": null,
      "left": null,
      "margin": null,
      "max_height": null,
      "max_width": null,
      "min_height": null,
      "min_width": null,
      "object_fit": null,
      "object_position": null,
      "order": null,
      "overflow": null,
      "overflow_x": null,
      "overflow_y": null,
      "padding": null,
      "right": null,
      "top": null,
      "visibility": null,
      "width": null
     }
    },
    "053c9333e1e74d8ba536fdea0635fe5c": {
     "model_module": "@jupyter-widgets/controls",
     "model_module_version": "1.5.0",
     "model_name": "DescriptionStyleModel",
     "state": {
      "_model_module": "@jupyter-widgets/controls",
      "_model_module_version": "1.5.0",
      "_model_name": "DescriptionStyleModel",
      "_view_count": null,
      "_view_module": "@jupyter-widgets/base",
      "_view_module_version": "1.2.0",
      "_view_name": "StyleView",
      "description_width": ""
     }
    },
    "0aa8ef72d2aa46bb9fa1d0aee428c469": {
     "model_module": "@jupyter-widgets/controls",
     "model_module_version": "1.5.0",
     "model_name": "FloatProgressModel",
     "state": {
      "_dom_classes": [],
      "_model_module": "@jupyter-widgets/controls",
      "_model_module_version": "1.5.0",
      "_model_name": "FloatProgressModel",
      "_view_count": null,
      "_view_module": "@jupyter-widgets/controls",
      "_view_module_version": "1.5.0",
      "_view_name": "ProgressView",
      "bar_style": "success",
      "description": "",
      "description_tooltip": null,
      "layout": "IPY_MODEL_8ab1d37b062c4be3b759254cd452f9b8",
      "max": 1000,
      "min": 0,
      "orientation": "horizontal",
      "style": "IPY_MODEL_386e810926f5437aa7efff94df94d8a0",
      "value": 1000
     }
    },
    "0bdf4f695d184fb38c104b257f4928b1": {
     "model_module": "@jupyter-widgets/base",
     "model_module_version": "1.2.0",
     "model_name": "LayoutModel",
     "state": {
      "_model_module": "@jupyter-widgets/base",
      "_model_module_version": "1.2.0",
      "_model_name": "LayoutModel",
      "_view_count": null,
      "_view_module": "@jupyter-widgets/base",
      "_view_module_version": "1.2.0",
      "_view_name": "LayoutView",
      "align_content": null,
      "align_items": null,
      "align_self": null,
      "border": null,
      "bottom": null,
      "display": null,
      "flex": null,
      "flex_flow": null,
      "grid_area": null,
      "grid_auto_columns": null,
      "grid_auto_flow": null,
      "grid_auto_rows": null,
      "grid_column": null,
      "grid_gap": null,
      "grid_row": null,
      "grid_template_areas": null,
      "grid_template_columns": null,
      "grid_template_rows": null,
      "height": null,
      "justify_content": null,
      "justify_items": null,
      "left": null,
      "margin": null,
      "max_height": null,
      "max_width": null,
      "min_height": null,
      "min_width": null,
      "object_fit": null,
      "object_position": null,
      "order": null,
      "overflow": null,
      "overflow_x": null,
      "overflow_y": null,
      "padding": null,
      "right": null,
      "top": null,
      "visibility": null,
      "width": null
     }
    },
    "13451a5aec724d1a8a2c738ee6854046": {
     "model_module": "@jupyter-widgets/controls",
     "model_module_version": "1.5.0",
     "model_name": "DescriptionStyleModel",
     "state": {
      "_model_module": "@jupyter-widgets/controls",
      "_model_module_version": "1.5.0",
      "_model_name": "DescriptionStyleModel",
      "_view_count": null,
      "_view_module": "@jupyter-widgets/base",
      "_view_module_version": "1.2.0",
      "_view_name": "StyleView",
      "description_width": ""
     }
    },
    "17655cdd60e24298912cca01a99ef5d7": {
     "model_module": "@jupyter-widgets/controls",
     "model_module_version": "1.5.0",
     "model_name": "HTMLModel",
     "state": {
      "_dom_classes": [],
      "_model_module": "@jupyter-widgets/controls",
      "_model_module_version": "1.5.0",
      "_model_name": "HTMLModel",
      "_view_count": null,
      "_view_module": "@jupyter-widgets/controls",
      "_view_module_version": "1.5.0",
      "_view_name": "HTMLView",
      "description": "",
      "description_tooltip": null,
      "layout": "IPY_MODEL_61eff07c5e1a4f5fbe68bcb705c074c3",
      "placeholder": "​",
      "style": "IPY_MODEL_25d02e7dd4f04777a7c90bb6b985c210",
      "value": " 1000/1000 [00:00&lt;00:00, 1784.81 examples/s]"
     }
    },
    "1b9879349e3c44c49b9d47b2698950f8": {
     "model_module": "@jupyter-widgets/base",
     "model_module_version": "1.2.0",
     "model_name": "LayoutModel",
     "state": {
      "_model_module": "@jupyter-widgets/base",
      "_model_module_version": "1.2.0",
      "_model_name": "LayoutModel",
      "_view_count": null,
      "_view_module": "@jupyter-widgets/base",
      "_view_module_version": "1.2.0",
      "_view_name": "LayoutView",
      "align_content": null,
      "align_items": null,
      "align_self": null,
      "border": null,
      "bottom": null,
      "display": null,
      "flex": null,
      "flex_flow": null,
      "grid_area": null,
      "grid_auto_columns": null,
      "grid_auto_flow": null,
      "grid_auto_rows": null,
      "grid_column": null,
      "grid_gap": null,
      "grid_row": null,
      "grid_template_areas": null,
      "grid_template_columns": null,
      "grid_template_rows": null,
      "height": null,
      "justify_content": null,
      "justify_items": null,
      "left": null,
      "margin": null,
      "max_height": null,
      "max_width": null,
      "min_height": null,
      "min_width": null,
      "object_fit": null,
      "object_position": null,
      "order": null,
      "overflow": null,
      "overflow_x": null,
      "overflow_y": null,
      "padding": null,
      "right": null,
      "top": null,
      "visibility": null,
      "width": null
     }
    },
    "1d0581c0cf3a4f169f33901fb2f46af5": {
     "model_module": "@jupyter-widgets/controls",
     "model_module_version": "1.5.0",
     "model_name": "HBoxModel",
     "state": {
      "_dom_classes": [],
      "_model_module": "@jupyter-widgets/controls",
      "_model_module_version": "1.5.0",
      "_model_name": "HBoxModel",
      "_view_count": null,
      "_view_module": "@jupyter-widgets/controls",
      "_view_module_version": "1.5.0",
      "_view_name": "HBoxView",
      "box_style": "",
      "children": [
       "IPY_MODEL_f2f12507a98d4c32b909704fca538498",
       "IPY_MODEL_88bd5ff953194b82b4207b7ac594c32e",
       "IPY_MODEL_669c1be3a57c43369bfd94e3e86d0c36"
      ],
      "layout": "IPY_MODEL_34533d9ad7ac4997a0cea82b852f2229"
     }
    },
    "1ed471bfadbe499882d40dda7b5aadc1": {
     "model_module": "@jupyter-widgets/controls",
     "model_module_version": "1.5.0",
     "model_name": "HTMLModel",
     "state": {
      "_dom_classes": [],
      "_model_module": "@jupyter-widgets/controls",
      "_model_module_version": "1.5.0",
      "_model_name": "HTMLModel",
      "_view_count": null,
      "_view_module": "@jupyter-widgets/controls",
      "_view_module_version": "1.5.0",
      "_view_name": "HTMLView",
      "description": "",
      "description_tooltip": null,
      "layout": "IPY_MODEL_4f0c7b2409f7497580c466a814a3281d",
      "placeholder": "​",
      "style": "IPY_MODEL_41655b779fa84816bd7f77cb47b02b02",
      "value": "adapter_config.json: 100%"
     }
    },
    "210a0d6f9bf2407f95971a4080bcbc1d": {
     "model_module": "@jupyter-widgets/base",
     "model_module_version": "1.2.0",
     "model_name": "LayoutModel",
     "state": {
      "_model_module": "@jupyter-widgets/base",
      "_model_module_version": "1.2.0",
      "_model_name": "LayoutModel",
      "_view_count": null,
      "_view_module": "@jupyter-widgets/base",
      "_view_module_version": "1.2.0",
      "_view_name": "LayoutView",
      "align_content": null,
      "align_items": null,
      "align_self": null,
      "border": null,
      "bottom": null,
      "display": null,
      "flex": null,
      "flex_flow": null,
      "grid_area": null,
      "grid_auto_columns": null,
      "grid_auto_flow": null,
      "grid_auto_rows": null,
      "grid_column": null,
      "grid_gap": null,
      "grid_row": null,
      "grid_template_areas": null,
      "grid_template_columns": null,
      "grid_template_rows": null,
      "height": null,
      "justify_content": null,
      "justify_items": null,
      "left": null,
      "margin": null,
      "max_height": null,
      "max_width": null,
      "min_height": null,
      "min_width": null,
      "object_fit": null,
      "object_position": null,
      "order": null,
      "overflow": null,
      "overflow_x": null,
      "overflow_y": null,
      "padding": null,
      "right": null,
      "top": null,
      "visibility": null,
      "width": null
     }
    },
    "24d502bdd1af4ce6bb082249c06d1ea0": {
     "model_module": "@jupyter-widgets/controls",
     "model_module_version": "1.5.0",
     "model_name": "DescriptionStyleModel",
     "state": {
      "_model_module": "@jupyter-widgets/controls",
      "_model_module_version": "1.5.0",
      "_model_name": "DescriptionStyleModel",
      "_view_count": null,
      "_view_module": "@jupyter-widgets/base",
      "_view_module_version": "1.2.0",
      "_view_name": "StyleView",
      "description_width": ""
     }
    },
    "255e8a2287d0463ab494a018462d737a": {
     "model_module": "@jupyter-widgets/base",
     "model_module_version": "1.2.0",
     "model_name": "LayoutModel",
     "state": {
      "_model_module": "@jupyter-widgets/base",
      "_model_module_version": "1.2.0",
      "_model_name": "LayoutModel",
      "_view_count": null,
      "_view_module": "@jupyter-widgets/base",
      "_view_module_version": "1.2.0",
      "_view_name": "LayoutView",
      "align_content": null,
      "align_items": "center",
      "align_self": null,
      "border": null,
      "bottom": null,
      "display": "flex",
      "flex": null,
      "flex_flow": "column",
      "grid_area": null,
      "grid_auto_columns": null,
      "grid_auto_flow": null,
      "grid_auto_rows": null,
      "grid_column": null,
      "grid_gap": null,
      "grid_row": null,
      "grid_template_areas": null,
      "grid_template_columns": null,
      "grid_template_rows": null,
      "height": null,
      "justify_content": null,
      "justify_items": null,
      "left": null,
      "margin": null,
      "max_height": null,
      "max_width": null,
      "min_height": null,
      "min_width": null,
      "object_fit": null,
      "object_position": null,
      "order": null,
      "overflow": null,
      "overflow_x": null,
      "overflow_y": null,
      "padding": null,
      "right": null,
      "top": null,
      "visibility": null,
      "width": "50%"
     }
    },
    "25d02e7dd4f04777a7c90bb6b985c210": {
     "model_module": "@jupyter-widgets/controls",
     "model_module_version": "1.5.0",
     "model_name": "DescriptionStyleModel",
     "state": {
      "_model_module": "@jupyter-widgets/controls",
      "_model_module_version": "1.5.0",
      "_model_name": "DescriptionStyleModel",
      "_view_count": null,
      "_view_module": "@jupyter-widgets/base",
      "_view_module_version": "1.2.0",
      "_view_name": "StyleView",
      "description_width": ""
     }
    },
    "28307fabbae347b897fc216793bfb7f7": {
     "model_module": "@jupyter-widgets/base",
     "model_module_version": "1.2.0",
     "model_name": "LayoutModel",
     "state": {
      "_model_module": "@jupyter-widgets/base",
      "_model_module_version": "1.2.0",
      "_model_name": "LayoutModel",
      "_view_count": null,
      "_view_module": "@jupyter-widgets/base",
      "_view_module_version": "1.2.0",
      "_view_name": "LayoutView",
      "align_content": null,
      "align_items": null,
      "align_self": null,
      "border": null,
      "bottom": null,
      "display": null,
      "flex": null,
      "flex_flow": null,
      "grid_area": null,
      "grid_auto_columns": null,
      "grid_auto_flow": null,
      "grid_auto_rows": null,
      "grid_column": null,
      "grid_gap": null,
      "grid_row": null,
      "grid_template_areas": null,
      "grid_template_columns": null,
      "grid_template_rows": null,
      "height": null,
      "justify_content": null,
      "justify_items": null,
      "left": null,
      "margin": null,
      "max_height": null,
      "max_width": null,
      "min_height": null,
      "min_width": null,
      "object_fit": null,
      "object_position": null,
      "order": null,
      "overflow": null,
      "overflow_x": null,
      "overflow_y": null,
      "padding": null,
      "right": null,
      "top": null,
      "visibility": null,
      "width": null
     }
    },
    "290ac313a66c41c692dcaf3f1706b09b": {
     "model_module": "@jupyter-widgets/controls",
     "model_module_version": "1.5.0",
     "model_name": "LabelModel",
     "state": {
      "_dom_classes": [],
      "_model_module": "@jupyter-widgets/controls",
      "_model_module_version": "1.5.0",
      "_model_name": "LabelModel",
      "_view_count": null,
      "_view_module": "@jupyter-widgets/controls",
      "_view_module_version": "1.5.0",
      "_view_name": "LabelView",
      "description": "",
      "description_tooltip": null,
      "layout": "IPY_MODEL_3df3bbe02fcf4ab1b106b583aeb74b9d",
      "placeholder": "​",
      "style": "IPY_MODEL_9a8637c409294644a798c4a2de83f9ed",
      "value": "Connecting..."
     }
    },
    "2de5fa4bbd8b4b38975af34c4b443e40": {
     "model_module": "@jupyter-widgets/controls",
     "model_module_version": "1.5.0",
     "model_name": "DescriptionStyleModel",
     "state": {
      "_model_module": "@jupyter-widgets/controls",
      "_model_module_version": "1.5.0",
      "_model_name": "DescriptionStyleModel",
      "_view_count": null,
      "_view_module": "@jupyter-widgets/base",
      "_view_module_version": "1.2.0",
      "_view_name": "StyleView",
      "description_width": ""
     }
    },
    "2f665d7da94d46e3a0c27d06e2e09b4d": {
     "model_module": "@jupyter-widgets/controls",
     "model_module_version": "1.5.0",
     "model_name": "HTMLModel",
     "state": {
      "_dom_classes": [],
      "_model_module": "@jupyter-widgets/controls",
      "_model_module_version": "1.5.0",
      "_model_name": "HTMLModel",
      "_view_count": null,
      "_view_module": "@jupyter-widgets/controls",
      "_view_module_version": "1.5.0",
      "_view_name": "HTMLView",
      "description": "",
      "description_tooltip": null,
      "layout": "IPY_MODEL_041840c07fe54aa29121d8b78514bf1c",
      "placeholder": "​",
      "style": "IPY_MODEL_13451a5aec724d1a8a2c738ee6854046",
      "value": "Loading checkpoint shards: 100%"
     }
    },
    "332594755ee34a5bbc4fba920e8cc269": {
     "model_module": "@jupyter-widgets/controls",
     "model_module_version": "1.5.0",
     "model_name": "DescriptionStyleModel",
     "state": {
      "_model_module": "@jupyter-widgets/controls",
      "_model_module_version": "1.5.0",
      "_model_name": "DescriptionStyleModel",
      "_view_count": null,
      "_view_module": "@jupyter-widgets/base",
      "_view_module_version": "1.2.0",
      "_view_name": "StyleView",
      "description_width": ""
     }
    },
    "34533d9ad7ac4997a0cea82b852f2229": {
     "model_module": "@jupyter-widgets/base",
     "model_module_version": "1.2.0",
     "model_name": "LayoutModel",
     "state": {
      "_model_module": "@jupyter-widgets/base",
      "_model_module_version": "1.2.0",
      "_model_name": "LayoutModel",
      "_view_count": null,
      "_view_module": "@jupyter-widgets/base",
      "_view_module_version": "1.2.0",
      "_view_name": "LayoutView",
      "align_content": null,
      "align_items": null,
      "align_self": null,
      "border": null,
      "bottom": null,
      "display": null,
      "flex": null,
      "flex_flow": null,
      "grid_area": null,
      "grid_auto_columns": null,
      "grid_auto_flow": null,
      "grid_auto_rows": null,
      "grid_column": null,
      "grid_gap": null,
      "grid_row": null,
      "grid_template_areas": null,
      "grid_template_columns": null,
      "grid_template_rows": null,
      "height": null,
      "justify_content": null,
      "justify_items": null,
      "left": null,
      "margin": null,
      "max_height": null,
      "max_width": null,
      "min_height": null,
      "min_width": null,
      "object_fit": null,
      "object_position": null,
      "order": null,
      "overflow": null,
      "overflow_x": null,
      "overflow_y": null,
      "padding": null,
      "right": null,
      "top": null,
      "visibility": null,
      "width": null
     }
    },
    "355e5ad87c7d447f867ee364c2f06997": {
     "model_module": "@jupyter-widgets/controls",
     "model_module_version": "1.5.0",
     "model_name": "HTMLModel",
     "state": {
      "_dom_classes": [],
      "_model_module": "@jupyter-widgets/controls",
      "_model_module_version": "1.5.0",
      "_model_name": "HTMLModel",
      "_view_count": null,
      "_view_module": "@jupyter-widgets/controls",
      "_view_module_version": "1.5.0",
      "_view_name": "HTMLView",
      "description": "",
      "description_tooltip": null,
      "layout": "IPY_MODEL_a2bfda6fd9ce4089b8f1357723522d2e",
      "placeholder": "​",
      "style": "IPY_MODEL_332594755ee34a5bbc4fba920e8cc269",
      "value": " 2/2 [01:10&lt;00:00, 32.74s/it]"
     }
    },
    "380511ae19cf456e8be3b65b47e6648d": {
     "model_module": "@jupyter-widgets/controls",
     "model_module_version": "1.5.0",
     "model_name": "HTMLModel",
     "state": {
      "_dom_classes": [],
      "_model_module": "@jupyter-widgets/controls",
      "_model_module_version": "1.5.0",
      "_model_name": "HTMLModel",
      "_view_count": null,
      "_view_module": "@jupyter-widgets/controls",
      "_view_module_version": "1.5.0",
      "_view_name": "HTMLView",
      "description": "",
      "description_tooltip": null,
      "layout": "IPY_MODEL_bda32370118d4ec5a26b78650cb66c4c",
      "placeholder": "​",
      "style": "IPY_MODEL_4eddfb5422eb4996827f272d34514654",
      "value": " 2/2 [01:31&lt;00:00, 41.71s/it]"
     }
    },
    "386e810926f5437aa7efff94df94d8a0": {
     "model_module": "@jupyter-widgets/controls",
     "model_module_version": "1.5.0",
     "model_name": "ProgressStyleModel",
     "state": {
      "_model_module": "@jupyter-widgets/controls",
      "_model_module_version": "1.5.0",
      "_model_name": "ProgressStyleModel",
      "_view_count": null,
      "_view_module": "@jupyter-widgets/base",
      "_view_module_version": "1.2.0",
      "_view_name": "StyleView",
      "bar_color": null,
      "description_width": ""
     }
    },
    "3952e9d63f8c4407aa51969869ddd0a7": {
     "model_module": "@jupyter-widgets/controls",
     "model_module_version": "1.5.0",
     "model_name": "HBoxModel",
     "state": {
      "_dom_classes": [],
      "_model_module": "@jupyter-widgets/controls",
      "_model_module_version": "1.5.0",
      "_model_name": "HBoxModel",
      "_view_count": null,
      "_view_module": "@jupyter-widgets/controls",
      "_view_module_version": "1.5.0",
      "_view_name": "HBoxView",
      "box_style": "",
      "children": [
       "IPY_MODEL_2f665d7da94d46e3a0c27d06e2e09b4d",
       "IPY_MODEL_9e033b8a0a704ddd9db75f236a7ddb08",
       "IPY_MODEL_380511ae19cf456e8be3b65b47e6648d"
      ],
      "layout": "IPY_MODEL_f3b694d1b8ef440596b171adbb86db61"
     }
    },
    "399f5e9c613e419bae5b8569fe00de12": {
     "model_module": "@jupyter-widgets/controls",
     "model_module_version": "1.5.0",
     "model_name": "FloatProgressModel",
     "state": {
      "_dom_classes": [],
      "_model_module": "@jupyter-widgets/controls",
      "_model_module_version": "1.5.0",
      "_model_name": "FloatProgressModel",
      "_view_count": null,
      "_view_module": "@jupyter-widgets/controls",
      "_view_module_version": "1.5.0",
      "_view_name": "ProgressView",
      "bar_style": "success",
      "description": "",
      "description_tooltip": null,
      "layout": "IPY_MODEL_b11c917bf1d94462825a8fc3908dbcde",
      "max": 2,
      "min": 0,
      "orientation": "horizontal",
      "style": "IPY_MODEL_673671691ee241ea935b8e89f206d074",
      "value": 2
     }
    },
    "3df3bbe02fcf4ab1b106b583aeb74b9d": {
     "model_module": "@jupyter-widgets/base",
     "model_module_version": "1.2.0",
     "model_name": "LayoutModel",
     "state": {
      "_model_module": "@jupyter-widgets/base",
      "_model_module_version": "1.2.0",
      "_model_name": "LayoutModel",
      "_view_count": null,
      "_view_module": "@jupyter-widgets/base",
      "_view_module_version": "1.2.0",
      "_view_name": "LayoutView",
      "align_content": null,
      "align_items": null,
      "align_self": null,
      "border": null,
      "bottom": null,
      "display": null,
      "flex": null,
      "flex_flow": null,
      "grid_area": null,
      "grid_auto_columns": null,
      "grid_auto_flow": null,
      "grid_auto_rows": null,
      "grid_column": null,
      "grid_gap": null,
      "grid_row": null,
      "grid_template_areas": null,
      "grid_template_columns": null,
      "grid_template_rows": null,
      "height": null,
      "justify_content": null,
      "justify_items": null,
      "left": null,
      "margin": null,
      "max_height": null,
      "max_width": null,
      "min_height": null,
      "min_width": null,
      "object_fit": null,
      "object_position": null,
      "order": null,
      "overflow": null,
      "overflow_x": null,
      "overflow_y": null,
      "padding": null,
      "right": null,
      "top": null,
      "visibility": null,
      "width": null
     }
    },
    "3ea40d3478b54ad9bf281a328a8cb9b4": {
     "model_module": "@jupyter-widgets/controls",
     "model_module_version": "1.5.0",
     "model_name": "DescriptionStyleModel",
     "state": {
      "_model_module": "@jupyter-widgets/controls",
      "_model_module_version": "1.5.0",
      "_model_name": "DescriptionStyleModel",
      "_view_count": null,
      "_view_module": "@jupyter-widgets/base",
      "_view_module_version": "1.2.0",
      "_view_name": "StyleView",
      "description_width": ""
     }
    },
    "41655b779fa84816bd7f77cb47b02b02": {
     "model_module": "@jupyter-widgets/controls",
     "model_module_version": "1.5.0",
     "model_name": "DescriptionStyleModel",
     "state": {
      "_model_module": "@jupyter-widgets/controls",
      "_model_module_version": "1.5.0",
      "_model_name": "DescriptionStyleModel",
      "_view_count": null,
      "_view_module": "@jupyter-widgets/base",
      "_view_module_version": "1.2.0",
      "_view_name": "StyleView",
      "description_width": ""
     }
    },
    "425035d2373743c9b270e1ddede569be": {
     "model_module": "@jupyter-widgets/controls",
     "model_module_version": "1.5.0",
     "model_name": "HTMLModel",
     "state": {
      "_dom_classes": [],
      "_model_module": "@jupyter-widgets/controls",
      "_model_module_version": "1.5.0",
      "_model_name": "HTMLModel",
      "_view_count": null,
      "_view_module": "@jupyter-widgets/controls",
      "_view_module_version": "1.5.0",
      "_view_name": "HTMLView",
      "description": "",
      "description_tooltip": null,
      "layout": "IPY_MODEL_c85adabf95814a699811115c9db011a0",
      "placeholder": "​",
      "style": "IPY_MODEL_48408078b2d0440e84585834cea6d36f",
      "value": " 1000/1000 [00:00&lt;00:00, 1858.09 examples/s]"
     }
    },
    "48408078b2d0440e84585834cea6d36f": {
     "model_module": "@jupyter-widgets/controls",
     "model_module_version": "1.5.0",
     "model_name": "DescriptionStyleModel",
     "state": {
      "_model_module": "@jupyter-widgets/controls",
      "_model_module_version": "1.5.0",
      "_model_name": "DescriptionStyleModel",
      "_view_count": null,
      "_view_module": "@jupyter-widgets/base",
      "_view_module_version": "1.2.0",
      "_view_name": "StyleView",
      "description_width": ""
     }
    },
    "4dc7ddb1da5b417c86f88b4eaf488ebc": {
     "model_module": "@jupyter-widgets/base",
     "model_module_version": "1.2.0",
     "model_name": "LayoutModel",
     "state": {
      "_model_module": "@jupyter-widgets/base",
      "_model_module_version": "1.2.0",
      "_model_name": "LayoutModel",
      "_view_count": null,
      "_view_module": "@jupyter-widgets/base",
      "_view_module_version": "1.2.0",
      "_view_name": "LayoutView",
      "align_content": null,
      "align_items": null,
      "align_self": null,
      "border": null,
      "bottom": null,
      "display": null,
      "flex": null,
      "flex_flow": null,
      "grid_area": null,
      "grid_auto_columns": null,
      "grid_auto_flow": null,
      "grid_auto_rows": null,
      "grid_column": null,
      "grid_gap": null,
      "grid_row": null,
      "grid_template_areas": null,
      "grid_template_columns": null,
      "grid_template_rows": null,
      "height": null,
      "justify_content": null,
      "justify_items": null,
      "left": null,
      "margin": null,
      "max_height": null,
      "max_width": null,
      "min_height": null,
      "min_width": null,
      "object_fit": null,
      "object_position": null,
      "order": null,
      "overflow": null,
      "overflow_x": null,
      "overflow_y": null,
      "padding": null,
      "right": null,
      "top": null,
      "visibility": null,
      "width": null
     }
    },
    "4eddfb5422eb4996827f272d34514654": {
     "model_module": "@jupyter-widgets/controls",
     "model_module_version": "1.5.0",
     "model_name": "DescriptionStyleModel",
     "state": {
      "_model_module": "@jupyter-widgets/controls",
      "_model_module_version": "1.5.0",
      "_model_name": "DescriptionStyleModel",
      "_view_count": null,
      "_view_module": "@jupyter-widgets/base",
      "_view_module_version": "1.2.0",
      "_view_name": "StyleView",
      "description_width": ""
     }
    },
    "4f0c7b2409f7497580c466a814a3281d": {
     "model_module": "@jupyter-widgets/base",
     "model_module_version": "1.2.0",
     "model_name": "LayoutModel",
     "state": {
      "_model_module": "@jupyter-widgets/base",
      "_model_module_version": "1.2.0",
      "_model_name": "LayoutModel",
      "_view_count": null,
      "_view_module": "@jupyter-widgets/base",
      "_view_module_version": "1.2.0",
      "_view_name": "LayoutView",
      "align_content": null,
      "align_items": null,
      "align_self": null,
      "border": null,
      "bottom": null,
      "display": null,
      "flex": null,
      "flex_flow": null,
      "grid_area": null,
      "grid_auto_columns": null,
      "grid_auto_flow": null,
      "grid_auto_rows": null,
      "grid_column": null,
      "grid_gap": null,
      "grid_row": null,
      "grid_template_areas": null,
      "grid_template_columns": null,
      "grid_template_rows": null,
      "height": null,
      "justify_content": null,
      "justify_items": null,
      "left": null,
      "margin": null,
      "max_height": null,
      "max_width": null,
      "min_height": null,
      "min_width": null,
      "object_fit": null,
      "object_position": null,
      "order": null,
      "overflow": null,
      "overflow_x": null,
      "overflow_y": null,
      "padding": null,
      "right": null,
      "top": null,
      "visibility": null,
      "width": null
     }
    },
    "5054ee2ab077426fa2b908879e1e8cd2": {
     "model_module": "@jupyter-widgets/controls",
     "model_module_version": "1.5.0",
     "model_name": "ProgressStyleModel",
     "state": {
      "_model_module": "@jupyter-widgets/controls",
      "_model_module_version": "1.5.0",
      "_model_name": "ProgressStyleModel",
      "_view_count": null,
      "_view_module": "@jupyter-widgets/base",
      "_view_module_version": "1.2.0",
      "_view_name": "StyleView",
      "bar_color": null,
      "description_width": ""
     }
    },
    "52836f0a2ec34b79911f109da9b5c722": {
     "model_module": "@jupyter-widgets/base",
     "model_module_version": "1.2.0",
     "model_name": "LayoutModel",
     "state": {
      "_model_module": "@jupyter-widgets/base",
      "_model_module_version": "1.2.0",
      "_model_name": "LayoutModel",
      "_view_count": null,
      "_view_module": "@jupyter-widgets/base",
      "_view_module_version": "1.2.0",
      "_view_name": "LayoutView",
      "align_content": null,
      "align_items": null,
      "align_self": null,
      "border": null,
      "bottom": null,
      "display": null,
      "flex": null,
      "flex_flow": null,
      "grid_area": null,
      "grid_auto_columns": null,
      "grid_auto_flow": null,
      "grid_auto_rows": null,
      "grid_column": null,
      "grid_gap": null,
      "grid_row": null,
      "grid_template_areas": null,
      "grid_template_columns": null,
      "grid_template_rows": null,
      "height": null,
      "justify_content": null,
      "justify_items": null,
      "left": null,
      "margin": null,
      "max_height": null,
      "max_width": null,
      "min_height": null,
      "min_width": null,
      "object_fit": null,
      "object_position": null,
      "order": null,
      "overflow": null,
      "overflow_x": null,
      "overflow_y": null,
      "padding": null,
      "right": null,
      "top": null,
      "visibility": null,
      "width": null
     }
    },
    "5804ae0353dd49ddba981950e9b9dcc1": {
     "model_module": "@jupyter-widgets/base",
     "model_module_version": "1.2.0",
     "model_name": "LayoutModel",
     "state": {
      "_model_module": "@jupyter-widgets/base",
      "_model_module_version": "1.2.0",
      "_model_name": "LayoutModel",
      "_view_count": null,
      "_view_module": "@jupyter-widgets/base",
      "_view_module_version": "1.2.0",
      "_view_name": "LayoutView",
      "align_content": null,
      "align_items": null,
      "align_self": null,
      "border": null,
      "bottom": null,
      "display": null,
      "flex": null,
      "flex_flow": null,
      "grid_area": null,
      "grid_auto_columns": null,
      "grid_auto_flow": null,
      "grid_auto_rows": null,
      "grid_column": null,
      "grid_gap": null,
      "grid_row": null,
      "grid_template_areas": null,
      "grid_template_columns": null,
      "grid_template_rows": null,
      "height": null,
      "justify_content": null,
      "justify_items": null,
      "left": null,
      "margin": null,
      "max_height": null,
      "max_width": null,
      "min_height": null,
      "min_width": null,
      "object_fit": null,
      "object_position": null,
      "order": null,
      "overflow": null,
      "overflow_x": null,
      "overflow_y": null,
      "padding": null,
      "right": null,
      "top": null,
      "visibility": null,
      "width": null
     }
    },
    "58cb0372948f470e93613ba4ade17326": {
     "model_module": "@jupyter-widgets/base",
     "model_module_version": "1.2.0",
     "model_name": "LayoutModel",
     "state": {
      "_model_module": "@jupyter-widgets/base",
      "_model_module_version": "1.2.0",
      "_model_name": "LayoutModel",
      "_view_count": null,
      "_view_module": "@jupyter-widgets/base",
      "_view_module_version": "1.2.0",
      "_view_name": "LayoutView",
      "align_content": null,
      "align_items": null,
      "align_self": null,
      "border": null,
      "bottom": null,
      "display": null,
      "flex": null,
      "flex_flow": null,
      "grid_area": null,
      "grid_auto_columns": null,
      "grid_auto_flow": null,
      "grid_auto_rows": null,
      "grid_column": null,
      "grid_gap": null,
      "grid_row": null,
      "grid_template_areas": null,
      "grid_template_columns": null,
      "grid_template_rows": null,
      "height": null,
      "justify_content": null,
      "justify_items": null,
      "left": null,
      "margin": null,
      "max_height": null,
      "max_width": null,
      "min_height": null,
      "min_width": null,
      "object_fit": null,
      "object_position": null,
      "order": null,
      "overflow": null,
      "overflow_x": null,
      "overflow_y": null,
      "padding": null,
      "right": null,
      "top": null,
      "visibility": null,
      "width": null
     }
    },
    "5a7e34af585a4f2ca0222834a5e32bc2": {
     "model_module": "@jupyter-widgets/controls",
     "model_module_version": "1.5.0",
     "model_name": "FloatProgressModel",
     "state": {
      "_dom_classes": [],
      "_model_module": "@jupyter-widgets/controls",
      "_model_module_version": "1.5.0",
      "_model_name": "FloatProgressModel",
      "_view_count": null,
      "_view_module": "@jupyter-widgets/controls",
      "_view_module_version": "1.5.0",
      "_view_name": "ProgressView",
      "bar_style": "success",
      "description": "",
      "description_tooltip": null,
      "layout": "IPY_MODEL_ec028cc8f97c4e938de5e4ad54c9d87d",
      "max": 1000,
      "min": 0,
      "orientation": "horizontal",
      "style": "IPY_MODEL_8a71487947e340eeafc4ad6a5af47e83",
      "value": 1000
     }
    },
    "5d66a2194cd049d7a3e3aacd345270ba": {
     "model_module": "@jupyter-widgets/controls",
     "model_module_version": "1.5.0",
     "model_name": "DescriptionStyleModel",
     "state": {
      "_model_module": "@jupyter-widgets/controls",
      "_model_module_version": "1.5.0",
      "_model_name": "DescriptionStyleModel",
      "_view_count": null,
      "_view_module": "@jupyter-widgets/base",
      "_view_module_version": "1.2.0",
      "_view_name": "StyleView",
      "description_width": ""
     }
    },
    "5f0a3e69ffd046c4adcc87c80559e33f": {
     "model_module": "@jupyter-widgets/controls",
     "model_module_version": "1.5.0",
     "model_name": "HBoxModel",
     "state": {
      "_dom_classes": [],
      "_model_module": "@jupyter-widgets/controls",
      "_model_module_version": "1.5.0",
      "_model_name": "HBoxModel",
      "_view_count": null,
      "_view_module": "@jupyter-widgets/controls",
      "_view_module_version": "1.5.0",
      "_view_name": "HBoxView",
      "box_style": "",
      "children": [
       "IPY_MODEL_7bce6e6555844c28863edd25e1ea1ee1",
       "IPY_MODEL_ae6596d744894a14ae135f765a15d1fe",
       "IPY_MODEL_88be5dc3cfb94d75ae483e8bcc31e470"
      ],
      "layout": "IPY_MODEL_52836f0a2ec34b79911f109da9b5c722"
     }
    },
    "61eff07c5e1a4f5fbe68bcb705c074c3": {
     "model_module": "@jupyter-widgets/base",
     "model_module_version": "1.2.0",
     "model_name": "LayoutModel",
     "state": {
      "_model_module": "@jupyter-widgets/base",
      "_model_module_version": "1.2.0",
      "_model_name": "LayoutModel",
      "_view_count": null,
      "_view_module": "@jupyter-widgets/base",
      "_view_module_version": "1.2.0",
      "_view_name": "LayoutView",
      "align_content": null,
      "align_items": null,
      "align_self": null,
      "border": null,
      "bottom": null,
      "display": null,
      "flex": null,
      "flex_flow": null,
      "grid_area": null,
      "grid_auto_columns": null,
      "grid_auto_flow": null,
      "grid_auto_rows": null,
      "grid_column": null,
      "grid_gap": null,
      "grid_row": null,
      "grid_template_areas": null,
      "grid_template_columns": null,
      "grid_template_rows": null,
      "height": null,
      "justify_content": null,
      "justify_items": null,
      "left": null,
      "margin": null,
      "max_height": null,
      "max_width": null,
      "min_height": null,
      "min_width": null,
      "object_fit": null,
      "object_position": null,
      "order": null,
      "overflow": null,
      "overflow_x": null,
      "overflow_y": null,
      "padding": null,
      "right": null,
      "top": null,
      "visibility": null,
      "width": null
     }
    },
    "6543a2a38f5f4116862fc282e6125c73": {
     "model_module": "@jupyter-widgets/controls",
     "model_module_version": "1.5.0",
     "model_name": "HTMLModel",
     "state": {
      "_dom_classes": [],
      "_model_module": "@jupyter-widgets/controls",
      "_model_module_version": "1.5.0",
      "_model_name": "HTMLModel",
      "_view_count": null,
      "_view_module": "@jupyter-widgets/controls",
      "_view_module_version": "1.5.0",
      "_view_name": "HTMLView",
      "description": "",
      "description_tooltip": null,
      "layout": "IPY_MODEL_0bdf4f695d184fb38c104b257f4928b1",
      "placeholder": "​",
      "style": "IPY_MODEL_819d51fc2cc94551ae2b86f6d76c80c7",
      "value": "<center> <img\nsrc=https://huggingface.co/front/assets/huggingface_logo-noborder.svg\nalt='Hugging Face'> <br> Copy a token from <a\nhref=\"https://huggingface.co/settings/tokens\" target=\"_blank\">your Hugging Face\ntokens page</a> and paste it below. <br> Immediately click login after copying\nyour token or it might be stored in plain text in this notebook file. </center>"
     }
    },
    "669c1be3a57c43369bfd94e3e86d0c36": {
     "model_module": "@jupyter-widgets/controls",
     "model_module_version": "1.5.0",
     "model_name": "HTMLModel",
     "state": {
      "_dom_classes": [],
      "_model_module": "@jupyter-widgets/controls",
      "_model_module_version": "1.5.0",
      "_model_name": "HTMLModel",
      "_view_count": null,
      "_view_module": "@jupyter-widgets/controls",
      "_view_module_version": "1.5.0",
      "_view_name": "HTMLView",
      "description": "",
      "description_tooltip": null,
      "layout": "IPY_MODEL_82b01c80dc774480a5fbffb2cb31df4e",
      "placeholder": "​",
      "style": "IPY_MODEL_7b9a310a0d6249c7be4ed9b555d2eec3",
      "value": " 1000/1000 [00:00&lt;00:00, 31515.03 examples/s]"
     }
    },
    "673671691ee241ea935b8e89f206d074": {
     "model_module": "@jupyter-widgets/controls",
     "model_module_version": "1.5.0",
     "model_name": "ProgressStyleModel",
     "state": {
      "_model_module": "@jupyter-widgets/controls",
      "_model_module_version": "1.5.0",
      "_model_name": "ProgressStyleModel",
      "_view_count": null,
      "_view_module": "@jupyter-widgets/base",
      "_view_module_version": "1.2.0",
      "_view_name": "StyleView",
      "bar_color": null,
      "description_width": ""
     }
    },
    "72cd4bdabf914c4ca313e9c5273cf6a8": {
     "model_module": "@jupyter-widgets/controls",
     "model_module_version": "1.5.0",
     "model_name": "DescriptionStyleModel",
     "state": {
      "_model_module": "@jupyter-widgets/controls",
      "_model_module_version": "1.5.0",
      "_model_name": "DescriptionStyleModel",
      "_view_count": null,
      "_view_module": "@jupyter-widgets/base",
      "_view_module_version": "1.2.0",
      "_view_name": "StyleView",
      "description_width": ""
     }
    },
    "7b9a310a0d6249c7be4ed9b555d2eec3": {
     "model_module": "@jupyter-widgets/controls",
     "model_module_version": "1.5.0",
     "model_name": "DescriptionStyleModel",
     "state": {
      "_model_module": "@jupyter-widgets/controls",
      "_model_module_version": "1.5.0",
      "_model_name": "DescriptionStyleModel",
      "_view_count": null,
      "_view_module": "@jupyter-widgets/base",
      "_view_module_version": "1.2.0",
      "_view_name": "StyleView",
      "description_width": ""
     }
    },
    "7bce6e6555844c28863edd25e1ea1ee1": {
     "model_module": "@jupyter-widgets/controls",
     "model_module_version": "1.5.0",
     "model_name": "HTMLModel",
     "state": {
      "_dom_classes": [],
      "_model_module": "@jupyter-widgets/controls",
      "_model_module_version": "1.5.0",
      "_model_name": "HTMLModel",
      "_view_count": null,
      "_view_module": "@jupyter-widgets/controls",
      "_view_module_version": "1.5.0",
      "_view_name": "HTMLView",
      "description": "",
      "description_tooltip": null,
      "layout": "IPY_MODEL_ec5c4e1a7a17450aa14319880abc1312",
      "placeholder": "​",
      "style": "IPY_MODEL_24d502bdd1af4ce6bb082249c06d1ea0",
      "value": "config.json: 100%"
     }
    },
    "7d3bd0ac52424e91af73a58ec8d02943": {
     "model_module": "@jupyter-widgets/base",
     "model_module_version": "1.2.0",
     "model_name": "LayoutModel",
     "state": {
      "_model_module": "@jupyter-widgets/base",
      "_model_module_version": "1.2.0",
      "_model_name": "LayoutModel",
      "_view_count": null,
      "_view_module": "@jupyter-widgets/base",
      "_view_module_version": "1.2.0",
      "_view_name": "LayoutView",
      "align_content": null,
      "align_items": null,
      "align_self": null,
      "border": null,
      "bottom": null,
      "display": null,
      "flex": null,
      "flex_flow": null,
      "grid_area": null,
      "grid_auto_columns": null,
      "grid_auto_flow": null,
      "grid_auto_rows": null,
      "grid_column": null,
      "grid_gap": null,
      "grid_row": null,
      "grid_template_areas": null,
      "grid_template_columns": null,
      "grid_template_rows": null,
      "height": null,
      "justify_content": null,
      "justify_items": null,
      "left": null,
      "margin": null,
      "max_height": null,
      "max_width": null,
      "min_height": null,
      "min_width": null,
      "object_fit": null,
      "object_position": null,
      "order": null,
      "overflow": null,
      "overflow_x": null,
      "overflow_y": null,
      "padding": null,
      "right": null,
      "top": null,
      "visibility": null,
      "width": null
     }
    },
    "80da8a98da0e4e7d9da3d635efb12a86": {
     "model_module": "@jupyter-widgets/base",
     "model_module_version": "1.2.0",
     "model_name": "LayoutModel",
     "state": {
      "_model_module": "@jupyter-widgets/base",
      "_model_module_version": "1.2.0",
      "_model_name": "LayoutModel",
      "_view_count": null,
      "_view_module": "@jupyter-widgets/base",
      "_view_module_version": "1.2.0",
      "_view_name": "LayoutView",
      "align_content": null,
      "align_items": null,
      "align_self": null,
      "border": null,
      "bottom": null,
      "display": null,
      "flex": null,
      "flex_flow": null,
      "grid_area": null,
      "grid_auto_columns": null,
      "grid_auto_flow": null,
      "grid_auto_rows": null,
      "grid_column": null,
      "grid_gap": null,
      "grid_row": null,
      "grid_template_areas": null,
      "grid_template_columns": null,
      "grid_template_rows": null,
      "height": null,
      "justify_content": null,
      "justify_items": null,
      "left": null,
      "margin": null,
      "max_height": null,
      "max_width": null,
      "min_height": null,
      "min_width": null,
      "object_fit": null,
      "object_position": null,
      "order": null,
      "overflow": null,
      "overflow_x": null,
      "overflow_y": null,
      "padding": null,
      "right": null,
      "top": null,
      "visibility": null,
      "width": null
     }
    },
    "819d51fc2cc94551ae2b86f6d76c80c7": {
     "model_module": "@jupyter-widgets/controls",
     "model_module_version": "1.5.0",
     "model_name": "DescriptionStyleModel",
     "state": {
      "_model_module": "@jupyter-widgets/controls",
      "_model_module_version": "1.5.0",
      "_model_name": "DescriptionStyleModel",
      "_view_count": null,
      "_view_module": "@jupyter-widgets/base",
      "_view_module_version": "1.2.0",
      "_view_name": "StyleView",
      "description_width": ""
     }
    },
    "82b01c80dc774480a5fbffb2cb31df4e": {
     "model_module": "@jupyter-widgets/base",
     "model_module_version": "1.2.0",
     "model_name": "LayoutModel",
     "state": {
      "_model_module": "@jupyter-widgets/base",
      "_model_module_version": "1.2.0",
      "_model_name": "LayoutModel",
      "_view_count": null,
      "_view_module": "@jupyter-widgets/base",
      "_view_module_version": "1.2.0",
      "_view_name": "LayoutView",
      "align_content": null,
      "align_items": null,
      "align_self": null,
      "border": null,
      "bottom": null,
      "display": null,
      "flex": null,
      "flex_flow": null,
      "grid_area": null,
      "grid_auto_columns": null,
      "grid_auto_flow": null,
      "grid_auto_rows": null,
      "grid_column": null,
      "grid_gap": null,
      "grid_row": null,
      "grid_template_areas": null,
      "grid_template_columns": null,
      "grid_template_rows": null,
      "height": null,
      "justify_content": null,
      "justify_items": null,
      "left": null,
      "margin": null,
      "max_height": null,
      "max_width": null,
      "min_height": null,
      "min_width": null,
      "object_fit": null,
      "object_position": null,
      "order": null,
      "overflow": null,
      "overflow_x": null,
      "overflow_y": null,
      "padding": null,
      "right": null,
      "top": null,
      "visibility": null,
      "width": null
     }
    },
    "82e04b742e244e239c2d277b02d92c97": {
     "model_module": "@jupyter-widgets/base",
     "model_module_version": "1.2.0",
     "model_name": "LayoutModel",
     "state": {
      "_model_module": "@jupyter-widgets/base",
      "_model_module_version": "1.2.0",
      "_model_name": "LayoutModel",
      "_view_count": null,
      "_view_module": "@jupyter-widgets/base",
      "_view_module_version": "1.2.0",
      "_view_name": "LayoutView",
      "align_content": null,
      "align_items": null,
      "align_self": null,
      "border": null,
      "bottom": null,
      "display": null,
      "flex": null,
      "flex_flow": null,
      "grid_area": null,
      "grid_auto_columns": null,
      "grid_auto_flow": null,
      "grid_auto_rows": null,
      "grid_column": null,
      "grid_gap": null,
      "grid_row": null,
      "grid_template_areas": null,
      "grid_template_columns": null,
      "grid_template_rows": null,
      "height": null,
      "justify_content": null,
      "justify_items": null,
      "left": null,
      "margin": null,
      "max_height": null,
      "max_width": null,
      "min_height": null,
      "min_width": null,
      "object_fit": null,
      "object_position": null,
      "order": null,
      "overflow": null,
      "overflow_x": null,
      "overflow_y": null,
      "padding": null,
      "right": null,
      "top": null,
      "visibility": null,
      "width": null
     }
    },
    "887a4c16ac0f4d5fa4dd71ca7a6747e9": {
     "model_module": "@jupyter-widgets/controls",
     "model_module_version": "1.5.0",
     "model_name": "FloatProgressModel",
     "state": {
      "_dom_classes": [],
      "_model_module": "@jupyter-widgets/controls",
      "_model_module_version": "1.5.0",
      "_model_name": "FloatProgressModel",
      "_view_count": null,
      "_view_module": "@jupyter-widgets/controls",
      "_view_module_version": "1.5.0",
      "_view_name": "ProgressView",
      "bar_style": "success",
      "description": "",
      "description_tooltip": null,
      "layout": "IPY_MODEL_a18600327d704bee803ec035c8a6b4ba",
      "max": 836,
      "min": 0,
      "orientation": "horizontal",
      "style": "IPY_MODEL_da282dce05154c69bfceda0e642596cc",
      "value": 836
     }
    },
    "88bd5ff953194b82b4207b7ac594c32e": {
     "model_module": "@jupyter-widgets/controls",
     "model_module_version": "1.5.0",
     "model_name": "FloatProgressModel",
     "state": {
      "_dom_classes": [],
      "_model_module": "@jupyter-widgets/controls",
      "_model_module_version": "1.5.0",
      "_model_name": "FloatProgressModel",
      "_view_count": null,
      "_view_module": "@jupyter-widgets/controls",
      "_view_module_version": "1.5.0",
      "_view_name": "ProgressView",
      "bar_style": "success",
      "description": "",
      "description_tooltip": null,
      "layout": "IPY_MODEL_fe9735fd961847de9e1f7f816c7afb75",
      "max": 1000,
      "min": 0,
      "orientation": "horizontal",
      "style": "IPY_MODEL_ea99b69f4d3446f3ab7504454b424bd8",
      "value": 1000
     }
    },
    "88be5dc3cfb94d75ae483e8bcc31e470": {
     "model_module": "@jupyter-widgets/controls",
     "model_module_version": "1.5.0",
     "model_name": "HTMLModel",
     "state": {
      "_dom_classes": [],
      "_model_module": "@jupyter-widgets/controls",
      "_model_module_version": "1.5.0",
      "_model_name": "HTMLModel",
      "_view_count": null,
      "_view_module": "@jupyter-widgets/controls",
      "_view_module_version": "1.5.0",
      "_view_name": "HTMLView",
      "description": "",
      "description_tooltip": null,
      "layout": "IPY_MODEL_80da8a98da0e4e7d9da3d635efb12a86",
      "placeholder": "​",
      "style": "IPY_MODEL_5d66a2194cd049d7a3e3aacd345270ba",
      "value": " 583/583 [00:00&lt;00:00, 55.1kB/s]"
     }
    },
    "8a71487947e340eeafc4ad6a5af47e83": {
     "model_module": "@jupyter-widgets/controls",
     "model_module_version": "1.5.0",
     "model_name": "ProgressStyleModel",
     "state": {
      "_model_module": "@jupyter-widgets/controls",
      "_model_module_version": "1.5.0",
      "_model_name": "ProgressStyleModel",
      "_view_count": null,
      "_view_module": "@jupyter-widgets/base",
      "_view_module_version": "1.2.0",
      "_view_name": "StyleView",
      "bar_color": null,
      "description_width": ""
     }
    },
    "8a7deb73281a43c0ac4fee47e0c6091a": {
     "model_module": "@jupyter-widgets/base",
     "model_module_version": "1.2.0",
     "model_name": "LayoutModel",
     "state": {
      "_model_module": "@jupyter-widgets/base",
      "_model_module_version": "1.2.0",
      "_model_name": "LayoutModel",
      "_view_count": null,
      "_view_module": "@jupyter-widgets/base",
      "_view_module_version": "1.2.0",
      "_view_name": "LayoutView",
      "align_content": null,
      "align_items": null,
      "align_self": null,
      "border": null,
      "bottom": null,
      "display": null,
      "flex": null,
      "flex_flow": null,
      "grid_area": null,
      "grid_auto_columns": null,
      "grid_auto_flow": null,
      "grid_auto_rows": null,
      "grid_column": null,
      "grid_gap": null,
      "grid_row": null,
      "grid_template_areas": null,
      "grid_template_columns": null,
      "grid_template_rows": null,
      "height": null,
      "justify_content": null,
      "justify_items": null,
      "left": null,
      "margin": null,
      "max_height": null,
      "max_width": null,
      "min_height": null,
      "min_width": null,
      "object_fit": null,
      "object_position": null,
      "order": null,
      "overflow": null,
      "overflow_x": null,
      "overflow_y": null,
      "padding": null,
      "right": null,
      "top": null,
      "visibility": null,
      "width": null
     }
    },
    "8ab1d37b062c4be3b759254cd452f9b8": {
     "model_module": "@jupyter-widgets/base",
     "model_module_version": "1.2.0",
     "model_name": "LayoutModel",
     "state": {
      "_model_module": "@jupyter-widgets/base",
      "_model_module_version": "1.2.0",
      "_model_name": "LayoutModel",
      "_view_count": null,
      "_view_module": "@jupyter-widgets/base",
      "_view_module_version": "1.2.0",
      "_view_name": "LayoutView",
      "align_content": null,
      "align_items": null,
      "align_self": null,
      "border": null,
      "bottom": null,
      "display": null,
      "flex": null,
      "flex_flow": null,
      "grid_area": null,
      "grid_auto_columns": null,
      "grid_auto_flow": null,
      "grid_auto_rows": null,
      "grid_column": null,
      "grid_gap": null,
      "grid_row": null,
      "grid_template_areas": null,
      "grid_template_columns": null,
      "grid_template_rows": null,
      "height": null,
      "justify_content": null,
      "justify_items": null,
      "left": null,
      "margin": null,
      "max_height": null,
      "max_width": null,
      "min_height": null,
      "min_width": null,
      "object_fit": null,
      "object_position": null,
      "order": null,
      "overflow": null,
      "overflow_x": null,
      "overflow_y": null,
      "padding": null,
      "right": null,
      "top": null,
      "visibility": null,
      "width": null
     }
    },
    "8e91fbb0ed564f8394bde17b04e4325c": {
     "model_module": "@jupyter-widgets/controls",
     "model_module_version": "1.5.0",
     "model_name": "HBoxModel",
     "state": {
      "_dom_classes": [],
      "_model_module": "@jupyter-widgets/controls",
      "_model_module_version": "1.5.0",
      "_model_name": "HBoxModel",
      "_view_count": null,
      "_view_module": "@jupyter-widgets/controls",
      "_view_module_version": "1.5.0",
      "_view_name": "HBoxView",
      "box_style": "",
      "children": [
       "IPY_MODEL_eaf4aa37f2b14b50b3862cfcda216225",
       "IPY_MODEL_0aa8ef72d2aa46bb9fa1d0aee428c469",
       "IPY_MODEL_17655cdd60e24298912cca01a99ef5d7"
      ],
      "layout": "IPY_MODEL_58cb0372948f470e93613ba4ade17326"
     }
    },
    "8fbad841cdeb46f593c0829e09421136": {
     "model_module": "@jupyter-widgets/controls",
     "model_module_version": "1.5.0",
     "model_name": "DescriptionStyleModel",
     "state": {
      "_model_module": "@jupyter-widgets/controls",
      "_model_module_version": "1.5.0",
      "_model_name": "DescriptionStyleModel",
      "_view_count": null,
      "_view_module": "@jupyter-widgets/base",
      "_view_module_version": "1.2.0",
      "_view_name": "StyleView",
      "description_width": ""
     }
    },
    "9a8637c409294644a798c4a2de83f9ed": {
     "model_module": "@jupyter-widgets/controls",
     "model_module_version": "1.5.0",
     "model_name": "DescriptionStyleModel",
     "state": {
      "_model_module": "@jupyter-widgets/controls",
      "_model_module_version": "1.5.0",
      "_model_name": "DescriptionStyleModel",
      "_view_count": null,
      "_view_module": "@jupyter-widgets/base",
      "_view_module_version": "1.2.0",
      "_view_name": "StyleView",
      "description_width": ""
     }
    },
    "9b22f5c5e41a45d081aa2800bec66b6e": {
     "model_module": "@jupyter-widgets/controls",
     "model_module_version": "1.5.0",
     "model_name": "HTMLModel",
     "state": {
      "_dom_classes": [],
      "_model_module": "@jupyter-widgets/controls",
      "_model_module_version": "1.5.0",
      "_model_name": "HTMLModel",
      "_view_count": null,
      "_view_module": "@jupyter-widgets/controls",
      "_view_module_version": "1.5.0",
      "_view_name": "HTMLView",
      "description": "",
      "description_tooltip": null,
      "layout": "IPY_MODEL_ab64d7049acf422ab22a20194a652731",
      "placeholder": "​",
      "style": "IPY_MODEL_d911edc0514146e7a69f282839c560e2",
      "value": " 836/836 [00:00&lt;00:00, 28.0kB/s]"
     }
    },
    "9ba3f13606684d969c73d7b75c2043fc": {
     "model_module": "@jupyter-widgets/controls",
     "model_module_version": "1.5.0",
     "model_name": "HBoxModel",
     "state": {
      "_dom_classes": [],
      "_model_module": "@jupyter-widgets/controls",
      "_model_module_version": "1.5.0",
      "_model_name": "HBoxModel",
      "_view_count": null,
      "_view_module": "@jupyter-widgets/controls",
      "_view_module_version": "1.5.0",
      "_view_name": "HBoxView",
      "box_style": "",
      "children": [
       "IPY_MODEL_ea834c3b65dc4df5933e49cbe2832d45",
       "IPY_MODEL_399f5e9c613e419bae5b8569fe00de12",
       "IPY_MODEL_355e5ad87c7d447f867ee364c2f06997"
      ],
      "layout": "IPY_MODEL_28307fabbae347b897fc216793bfb7f7"
     }
    },
    "9e033b8a0a704ddd9db75f236a7ddb08": {
     "model_module": "@jupyter-widgets/controls",
     "model_module_version": "1.5.0",
     "model_name": "FloatProgressModel",
     "state": {
      "_dom_classes": [],
      "_model_module": "@jupyter-widgets/controls",
      "_model_module_version": "1.5.0",
      "_model_name": "FloatProgressModel",
      "_view_count": null,
      "_view_module": "@jupyter-widgets/controls",
      "_view_module_version": "1.5.0",
      "_view_name": "ProgressView",
      "bar_style": "success",
      "description": "",
      "description_tooltip": null,
      "layout": "IPY_MODEL_df78847280b0413e8295032ee0e04118",
      "max": 2,
      "min": 0,
      "orientation": "horizontal",
      "style": "IPY_MODEL_03283ca3693845efa6ca69605b1f4347",
      "value": 2
     }
    },
    "a18600327d704bee803ec035c8a6b4ba": {
     "model_module": "@jupyter-widgets/base",
     "model_module_version": "1.2.0",
     "model_name": "LayoutModel",
     "state": {
      "_model_module": "@jupyter-widgets/base",
      "_model_module_version": "1.2.0",
      "_model_name": "LayoutModel",
      "_view_count": null,
      "_view_module": "@jupyter-widgets/base",
      "_view_module_version": "1.2.0",
      "_view_name": "LayoutView",
      "align_content": null,
      "align_items": null,
      "align_self": null,
      "border": null,
      "bottom": null,
      "display": null,
      "flex": null,
      "flex_flow": null,
      "grid_area": null,
      "grid_auto_columns": null,
      "grid_auto_flow": null,
      "grid_auto_rows": null,
      "grid_column": null,
      "grid_gap": null,
      "grid_row": null,
      "grid_template_areas": null,
      "grid_template_columns": null,
      "grid_template_rows": null,
      "height": null,
      "justify_content": null,
      "justify_items": null,
      "left": null,
      "margin": null,
      "max_height": null,
      "max_width": null,
      "min_height": null,
      "min_width": null,
      "object_fit": null,
      "object_position": null,
      "order": null,
      "overflow": null,
      "overflow_x": null,
      "overflow_y": null,
      "padding": null,
      "right": null,
      "top": null,
      "visibility": null,
      "width": null
     }
    },
    "a2bfda6fd9ce4089b8f1357723522d2e": {
     "model_module": "@jupyter-widgets/base",
     "model_module_version": "1.2.0",
     "model_name": "LayoutModel",
     "state": {
      "_model_module": "@jupyter-widgets/base",
      "_model_module_version": "1.2.0",
      "_model_name": "LayoutModel",
      "_view_count": null,
      "_view_module": "@jupyter-widgets/base",
      "_view_module_version": "1.2.0",
      "_view_name": "LayoutView",
      "align_content": null,
      "align_items": null,
      "align_self": null,
      "border": null,
      "bottom": null,
      "display": null,
      "flex": null,
      "flex_flow": null,
      "grid_area": null,
      "grid_auto_columns": null,
      "grid_auto_flow": null,
      "grid_auto_rows": null,
      "grid_column": null,
      "grid_gap": null,
      "grid_row": null,
      "grid_template_areas": null,
      "grid_template_columns": null,
      "grid_template_rows": null,
      "height": null,
      "justify_content": null,
      "justify_items": null,
      "left": null,
      "margin": null,
      "max_height": null,
      "max_width": null,
      "min_height": null,
      "min_width": null,
      "object_fit": null,
      "object_position": null,
      "order": null,
      "overflow": null,
      "overflow_x": null,
      "overflow_y": null,
      "padding": null,
      "right": null,
      "top": null,
      "visibility": null,
      "width": null
     }
    },
    "ab64d7049acf422ab22a20194a652731": {
     "model_module": "@jupyter-widgets/base",
     "model_module_version": "1.2.0",
     "model_name": "LayoutModel",
     "state": {
      "_model_module": "@jupyter-widgets/base",
      "_model_module_version": "1.2.0",
      "_model_name": "LayoutModel",
      "_view_count": null,
      "_view_module": "@jupyter-widgets/base",
      "_view_module_version": "1.2.0",
      "_view_name": "LayoutView",
      "align_content": null,
      "align_items": null,
      "align_self": null,
      "border": null,
      "bottom": null,
      "display": null,
      "flex": null,
      "flex_flow": null,
      "grid_area": null,
      "grid_auto_columns": null,
      "grid_auto_flow": null,
      "grid_auto_rows": null,
      "grid_column": null,
      "grid_gap": null,
      "grid_row": null,
      "grid_template_areas": null,
      "grid_template_columns": null,
      "grid_template_rows": null,
      "height": null,
      "justify_content": null,
      "justify_items": null,
      "left": null,
      "margin": null,
      "max_height": null,
      "max_width": null,
      "min_height": null,
      "min_width": null,
      "object_fit": null,
      "object_position": null,
      "order": null,
      "overflow": null,
      "overflow_x": null,
      "overflow_y": null,
      "padding": null,
      "right": null,
      "top": null,
      "visibility": null,
      "width": null
     }
    },
    "ab68e39be2624da582ce363fcd0c946e": {
     "model_module": "@jupyter-widgets/controls",
     "model_module_version": "1.5.0",
     "model_name": "DescriptionStyleModel",
     "state": {
      "_model_module": "@jupyter-widgets/controls",
      "_model_module_version": "1.5.0",
      "_model_name": "DescriptionStyleModel",
      "_view_count": null,
      "_view_module": "@jupyter-widgets/base",
      "_view_module_version": "1.2.0",
      "_view_name": "StyleView",
      "description_width": ""
     }
    },
    "ae6596d744894a14ae135f765a15d1fe": {
     "model_module": "@jupyter-widgets/controls",
     "model_module_version": "1.5.0",
     "model_name": "FloatProgressModel",
     "state": {
      "_dom_classes": [],
      "_model_module": "@jupyter-widgets/controls",
      "_model_module_version": "1.5.0",
      "_model_name": "FloatProgressModel",
      "_view_count": null,
      "_view_module": "@jupyter-widgets/controls",
      "_view_module_version": "1.5.0",
      "_view_name": "ProgressView",
      "bar_style": "success",
      "description": "",
      "description_tooltip": null,
      "layout": "IPY_MODEL_82e04b742e244e239c2d277b02d92c97",
      "max": 583,
      "min": 0,
      "orientation": "horizontal",
      "style": "IPY_MODEL_5054ee2ab077426fa2b908879e1e8cd2",
      "value": 583
     }
    },
    "b11c917bf1d94462825a8fc3908dbcde": {
     "model_module": "@jupyter-widgets/base",
     "model_module_version": "1.2.0",
     "model_name": "LayoutModel",
     "state": {
      "_model_module": "@jupyter-widgets/base",
      "_model_module_version": "1.2.0",
      "_model_name": "LayoutModel",
      "_view_count": null,
      "_view_module": "@jupyter-widgets/base",
      "_view_module_version": "1.2.0",
      "_view_name": "LayoutView",
      "align_content": null,
      "align_items": null,
      "align_self": null,
      "border": null,
      "bottom": null,
      "display": null,
      "flex": null,
      "flex_flow": null,
      "grid_area": null,
      "grid_auto_columns": null,
      "grid_auto_flow": null,
      "grid_auto_rows": null,
      "grid_column": null,
      "grid_gap": null,
      "grid_row": null,
      "grid_template_areas": null,
      "grid_template_columns": null,
      "grid_template_rows": null,
      "height": null,
      "justify_content": null,
      "justify_items": null,
      "left": null,
      "margin": null,
      "max_height": null,
      "max_width": null,
      "min_height": null,
      "min_width": null,
      "object_fit": null,
      "object_position": null,
      "order": null,
      "overflow": null,
      "overflow_x": null,
      "overflow_y": null,
      "padding": null,
      "right": null,
      "top": null,
      "visibility": null,
      "width": null
     }
    },
    "bce6c5bbebb648419f50f6caafd2fd28": {
     "model_module": "@jupyter-widgets/base",
     "model_module_version": "1.2.0",
     "model_name": "LayoutModel",
     "state": {
      "_model_module": "@jupyter-widgets/base",
      "_model_module_version": "1.2.0",
      "_model_name": "LayoutModel",
      "_view_count": null,
      "_view_module": "@jupyter-widgets/base",
      "_view_module_version": "1.2.0",
      "_view_name": "LayoutView",
      "align_content": null,
      "align_items": null,
      "align_self": null,
      "border": null,
      "bottom": null,
      "display": null,
      "flex": null,
      "flex_flow": null,
      "grid_area": null,
      "grid_auto_columns": null,
      "grid_auto_flow": null,
      "grid_auto_rows": null,
      "grid_column": null,
      "grid_gap": null,
      "grid_row": null,
      "grid_template_areas": null,
      "grid_template_columns": null,
      "grid_template_rows": null,
      "height": null,
      "justify_content": null,
      "justify_items": null,
      "left": null,
      "margin": null,
      "max_height": null,
      "max_width": null,
      "min_height": null,
      "min_width": null,
      "object_fit": null,
      "object_position": null,
      "order": null,
      "overflow": null,
      "overflow_x": null,
      "overflow_y": null,
      "padding": null,
      "right": null,
      "top": null,
      "visibility": null,
      "width": null
     }
    },
    "bda32370118d4ec5a26b78650cb66c4c": {
     "model_module": "@jupyter-widgets/base",
     "model_module_version": "1.2.0",
     "model_name": "LayoutModel",
     "state": {
      "_model_module": "@jupyter-widgets/base",
      "_model_module_version": "1.2.0",
      "_model_name": "LayoutModel",
      "_view_count": null,
      "_view_module": "@jupyter-widgets/base",
      "_view_module_version": "1.2.0",
      "_view_name": "LayoutView",
      "align_content": null,
      "align_items": null,
      "align_self": null,
      "border": null,
      "bottom": null,
      "display": null,
      "flex": null,
      "flex_flow": null,
      "grid_area": null,
      "grid_auto_columns": null,
      "grid_auto_flow": null,
      "grid_auto_rows": null,
      "grid_column": null,
      "grid_gap": null,
      "grid_row": null,
      "grid_template_areas": null,
      "grid_template_columns": null,
      "grid_template_rows": null,
      "height": null,
      "justify_content": null,
      "justify_items": null,
      "left": null,
      "margin": null,
      "max_height": null,
      "max_width": null,
      "min_height": null,
      "min_width": null,
      "object_fit": null,
      "object_position": null,
      "order": null,
      "overflow": null,
      "overflow_x": null,
      "overflow_y": null,
      "padding": null,
      "right": null,
      "top": null,
      "visibility": null,
      "width": null
     }
    },
    "bffa47a9e8174029b576700d98374f27": {
     "model_module": "@jupyter-widgets/controls",
     "model_module_version": "1.5.0",
     "model_name": "HBoxModel",
     "state": {
      "_dom_classes": [],
      "_model_module": "@jupyter-widgets/controls",
      "_model_module_version": "1.5.0",
      "_model_name": "HBoxModel",
      "_view_count": null,
      "_view_module": "@jupyter-widgets/controls",
      "_view_module_version": "1.5.0",
      "_view_name": "HBoxView",
      "box_style": "",
      "children": [
       "IPY_MODEL_c35957b970b5466a9016ff325629d1b9",
       "IPY_MODEL_5a7e34af585a4f2ca0222834a5e32bc2",
       "IPY_MODEL_425035d2373743c9b270e1ddede569be"
      ],
      "layout": "IPY_MODEL_8a7deb73281a43c0ac4fee47e0c6091a"
     }
    },
    "c35957b970b5466a9016ff325629d1b9": {
     "model_module": "@jupyter-widgets/controls",
     "model_module_version": "1.5.0",
     "model_name": "HTMLModel",
     "state": {
      "_dom_classes": [],
      "_model_module": "@jupyter-widgets/controls",
      "_model_module_version": "1.5.0",
      "_model_name": "HTMLModel",
      "_view_count": null,
      "_view_module": "@jupyter-widgets/controls",
      "_view_module_version": "1.5.0",
      "_view_name": "HTMLView",
      "description": "",
      "description_tooltip": null,
      "layout": "IPY_MODEL_1b9879349e3c44c49b9d47b2698950f8",
      "placeholder": "​",
      "style": "IPY_MODEL_053c9333e1e74d8ba536fdea0635fe5c",
      "value": "Adding EOS to train dataset: 100%"
     }
    },
    "c85adabf95814a699811115c9db011a0": {
     "model_module": "@jupyter-widgets/base",
     "model_module_version": "1.2.0",
     "model_name": "LayoutModel",
     "state": {
      "_model_module": "@jupyter-widgets/base",
      "_model_module_version": "1.2.0",
      "_model_name": "LayoutModel",
      "_view_count": null,
      "_view_module": "@jupyter-widgets/base",
      "_view_module_version": "1.2.0",
      "_view_name": "LayoutView",
      "align_content": null,
      "align_items": null,
      "align_self": null,
      "border": null,
      "bottom": null,
      "display": null,
      "flex": null,
      "flex_flow": null,
      "grid_area": null,
      "grid_auto_columns": null,
      "grid_auto_flow": null,
      "grid_auto_rows": null,
      "grid_column": null,
      "grid_gap": null,
      "grid_row": null,
      "grid_template_areas": null,
      "grid_template_columns": null,
      "grid_template_rows": null,
      "height": null,
      "justify_content": null,
      "justify_items": null,
      "left": null,
      "margin": null,
      "max_height": null,
      "max_width": null,
      "min_height": null,
      "min_width": null,
      "object_fit": null,
      "object_position": null,
      "order": null,
      "overflow": null,
      "overflow_x": null,
      "overflow_y": null,
      "padding": null,
      "right": null,
      "top": null,
      "visibility": null,
      "width": null
     }
    },
    "c8dcd49b8ab949e3810d246eae881e4a": {
     "model_module": "@jupyter-widgets/controls",
     "model_module_version": "1.5.0",
     "model_name": "HBoxModel",
     "state": {
      "_dom_classes": [],
      "_model_module": "@jupyter-widgets/controls",
      "_model_module_version": "1.5.0",
      "_model_name": "HBoxModel",
      "_view_count": null,
      "_view_module": "@jupyter-widgets/controls",
      "_view_module_version": "1.5.0",
      "_view_name": "HBoxView",
      "box_style": "",
      "children": [
       "IPY_MODEL_1ed471bfadbe499882d40dda7b5aadc1",
       "IPY_MODEL_887a4c16ac0f4d5fa4dd71ca7a6747e9",
       "IPY_MODEL_9b22f5c5e41a45d081aa2800bec66b6e"
      ],
      "layout": "IPY_MODEL_5804ae0353dd49ddba981950e9b9dcc1"
     }
    },
    "cb1424329f0c49269d1b1dc976adca74": {
     "model_module": "@jupyter-widgets/controls",
     "model_module_version": "1.5.0",
     "model_name": "PasswordModel",
     "state": {
      "_dom_classes": [],
      "_model_module": "@jupyter-widgets/controls",
      "_model_module_version": "1.5.0",
      "_model_name": "PasswordModel",
      "_view_count": null,
      "_view_module": "@jupyter-widgets/controls",
      "_view_module_version": "1.5.0",
      "_view_name": "PasswordView",
      "continuous_update": true,
      "description": "Token:",
      "description_tooltip": null,
      "disabled": false,
      "layout": "IPY_MODEL_4dc7ddb1da5b417c86f88b4eaf488ebc",
      "placeholder": "​",
      "style": "IPY_MODEL_2de5fa4bbd8b4b38975af34c4b443e40",
      "value": ""
     }
    },
    "cf3761ef5f784e4c85b7e9d8fdd5c1c6": {
     "model_module": "@jupyter-widgets/controls",
     "model_module_version": "1.5.0",
     "model_name": "ButtonStyleModel",
     "state": {
      "_model_module": "@jupyter-widgets/controls",
      "_model_module_version": "1.5.0",
      "_model_name": "ButtonStyleModel",
      "_view_count": null,
      "_view_module": "@jupyter-widgets/base",
      "_view_module_version": "1.2.0",
      "_view_name": "StyleView",
      "button_color": null,
      "font_weight": ""
     }
    },
    "d7527e6bd5c2415583a3fe46d91efa86": {
     "model_module": "@jupyter-widgets/controls",
     "model_module_version": "1.5.0",
     "model_name": "VBoxModel",
     "state": {
      "_dom_classes": [],
      "_model_module": "@jupyter-widgets/controls",
      "_model_module_version": "1.5.0",
      "_model_name": "VBoxModel",
      "_view_count": null,
      "_view_module": "@jupyter-widgets/controls",
      "_view_module_version": "1.5.0",
      "_view_name": "VBoxView",
      "box_style": "",
      "children": [],
      "layout": "IPY_MODEL_255e8a2287d0463ab494a018462d737a"
     }
    },
    "d911edc0514146e7a69f282839c560e2": {
     "model_module": "@jupyter-widgets/controls",
     "model_module_version": "1.5.0",
     "model_name": "DescriptionStyleModel",
     "state": {
      "_model_module": "@jupyter-widgets/controls",
      "_model_module_version": "1.5.0",
      "_model_name": "DescriptionStyleModel",
      "_view_count": null,
      "_view_module": "@jupyter-widgets/base",
      "_view_module_version": "1.2.0",
      "_view_name": "StyleView",
      "description_width": ""
     }
    },
    "da282dce05154c69bfceda0e642596cc": {
     "model_module": "@jupyter-widgets/controls",
     "model_module_version": "1.5.0",
     "model_name": "ProgressStyleModel",
     "state": {
      "_model_module": "@jupyter-widgets/controls",
      "_model_module_version": "1.5.0",
      "_model_name": "ProgressStyleModel",
      "_view_count": null,
      "_view_module": "@jupyter-widgets/base",
      "_view_module_version": "1.2.0",
      "_view_name": "StyleView",
      "bar_color": null,
      "description_width": ""
     }
    },
    "df78847280b0413e8295032ee0e04118": {
     "model_module": "@jupyter-widgets/base",
     "model_module_version": "1.2.0",
     "model_name": "LayoutModel",
     "state": {
      "_model_module": "@jupyter-widgets/base",
      "_model_module_version": "1.2.0",
      "_model_name": "LayoutModel",
      "_view_count": null,
      "_view_module": "@jupyter-widgets/base",
      "_view_module_version": "1.2.0",
      "_view_name": "LayoutView",
      "align_content": null,
      "align_items": null,
      "align_self": null,
      "border": null,
      "bottom": null,
      "display": null,
      "flex": null,
      "flex_flow": null,
      "grid_area": null,
      "grid_auto_columns": null,
      "grid_auto_flow": null,
      "grid_auto_rows": null,
      "grid_column": null,
      "grid_gap": null,
      "grid_row": null,
      "grid_template_areas": null,
      "grid_template_columns": null,
      "grid_template_rows": null,
      "height": null,
      "justify_content": null,
      "justify_items": null,
      "left": null,
      "margin": null,
      "max_height": null,
      "max_width": null,
      "min_height": null,
      "min_width": null,
      "object_fit": null,
      "object_position": null,
      "order": null,
      "overflow": null,
      "overflow_x": null,
      "overflow_y": null,
      "padding": null,
      "right": null,
      "top": null,
      "visibility": null,
      "width": null
     }
    },
    "e0877f6c048f4e98bd533b3ac7c7c9e0": {
     "model_module": "@jupyter-widgets/base",
     "model_module_version": "1.2.0",
     "model_name": "LayoutModel",
     "state": {
      "_model_module": "@jupyter-widgets/base",
      "_model_module_version": "1.2.0",
      "_model_name": "LayoutModel",
      "_view_count": null,
      "_view_module": "@jupyter-widgets/base",
      "_view_module_version": "1.2.0",
      "_view_name": "LayoutView",
      "align_content": null,
      "align_items": null,
      "align_self": null,
      "border": null,
      "bottom": null,
      "display": null,
      "flex": null,
      "flex_flow": null,
      "grid_area": null,
      "grid_auto_columns": null,
      "grid_auto_flow": null,
      "grid_auto_rows": null,
      "grid_column": null,
      "grid_gap": null,
      "grid_row": null,
      "grid_template_areas": null,
      "grid_template_columns": null,
      "grid_template_rows": null,
      "height": null,
      "justify_content": null,
      "justify_items": null,
      "left": null,
      "margin": null,
      "max_height": null,
      "max_width": null,
      "min_height": null,
      "min_width": null,
      "object_fit": null,
      "object_position": null,
      "order": null,
      "overflow": null,
      "overflow_x": null,
      "overflow_y": null,
      "padding": null,
      "right": null,
      "top": null,
      "visibility": null,
      "width": null
     }
    },
    "e3b67d34251f40bbb50f687ef4354e97": {
     "model_module": "@jupyter-widgets/controls",
     "model_module_version": "1.5.0",
     "model_name": "DescriptionStyleModel",
     "state": {
      "_model_module": "@jupyter-widgets/controls",
      "_model_module_version": "1.5.0",
      "_model_name": "DescriptionStyleModel",
      "_view_count": null,
      "_view_module": "@jupyter-widgets/base",
      "_view_module_version": "1.2.0",
      "_view_name": "StyleView",
      "description_width": ""
     }
    },
    "e99502c686c740338356d646c890b106": {
     "model_module": "@jupyter-widgets/controls",
     "model_module_version": "1.5.0",
     "model_name": "CheckboxModel",
     "state": {
      "_dom_classes": [],
      "_model_module": "@jupyter-widgets/controls",
      "_model_module_version": "1.5.0",
      "_model_name": "CheckboxModel",
      "_view_count": null,
      "_view_module": "@jupyter-widgets/controls",
      "_view_module_version": "1.5.0",
      "_view_name": "CheckboxView",
      "description": "Add token as git credential?",
      "description_tooltip": null,
      "disabled": false,
      "indent": true,
      "layout": "IPY_MODEL_fc0502b3f2ce417c8720e65cf7257666",
      "style": "IPY_MODEL_8fbad841cdeb46f593c0829e09421136",
      "value": true
     }
    },
    "ea834c3b65dc4df5933e49cbe2832d45": {
     "model_module": "@jupyter-widgets/controls",
     "model_module_version": "1.5.0",
     "model_name": "HTMLModel",
     "state": {
      "_dom_classes": [],
      "_model_module": "@jupyter-widgets/controls",
      "_model_module_version": "1.5.0",
      "_model_name": "HTMLModel",
      "_view_count": null,
      "_view_module": "@jupyter-widgets/controls",
      "_view_module_version": "1.5.0",
      "_view_name": "HTMLView",
      "description": "",
      "description_tooltip": null,
      "layout": "IPY_MODEL_7d3bd0ac52424e91af73a58ec8d02943",
      "placeholder": "​",
      "style": "IPY_MODEL_ab68e39be2624da582ce363fcd0c946e",
      "value": "Loading checkpoint shards: 100%"
     }
    },
    "ea99b69f4d3446f3ab7504454b424bd8": {
     "model_module": "@jupyter-widgets/controls",
     "model_module_version": "1.5.0",
     "model_name": "ProgressStyleModel",
     "state": {
      "_model_module": "@jupyter-widgets/controls",
      "_model_module_version": "1.5.0",
      "_model_name": "ProgressStyleModel",
      "_view_count": null,
      "_view_module": "@jupyter-widgets/base",
      "_view_module_version": "1.2.0",
      "_view_name": "StyleView",
      "bar_color": null,
      "description_width": ""
     }
    },
    "eaf4aa37f2b14b50b3862cfcda216225": {
     "model_module": "@jupyter-widgets/controls",
     "model_module_version": "1.5.0",
     "model_name": "HTMLModel",
     "state": {
      "_dom_classes": [],
      "_model_module": "@jupyter-widgets/controls",
      "_model_module_version": "1.5.0",
      "_model_name": "HTMLModel",
      "_view_count": null,
      "_view_module": "@jupyter-widgets/controls",
      "_view_module_version": "1.5.0",
      "_view_name": "HTMLView",
      "description": "",
      "description_tooltip": null,
      "layout": "IPY_MODEL_bce6c5bbebb648419f50f6caafd2fd28",
      "placeholder": "​",
      "style": "IPY_MODEL_3ea40d3478b54ad9bf281a328a8cb9b4",
      "value": "Tokenizing train dataset: 100%"
     }
    },
    "ec028cc8f97c4e938de5e4ad54c9d87d": {
     "model_module": "@jupyter-widgets/base",
     "model_module_version": "1.2.0",
     "model_name": "LayoutModel",
     "state": {
      "_model_module": "@jupyter-widgets/base",
      "_model_module_version": "1.2.0",
      "_model_name": "LayoutModel",
      "_view_count": null,
      "_view_module": "@jupyter-widgets/base",
      "_view_module_version": "1.2.0",
      "_view_name": "LayoutView",
      "align_content": null,
      "align_items": null,
      "align_self": null,
      "border": null,
      "bottom": null,
      "display": null,
      "flex": null,
      "flex_flow": null,
      "grid_area": null,
      "grid_auto_columns": null,
      "grid_auto_flow": null,
      "grid_auto_rows": null,
      "grid_column": null,
      "grid_gap": null,
      "grid_row": null,
      "grid_template_areas": null,
      "grid_template_columns": null,
      "grid_template_rows": null,
      "height": null,
      "justify_content": null,
      "justify_items": null,
      "left": null,
      "margin": null,
      "max_height": null,
      "max_width": null,
      "min_height": null,
      "min_width": null,
      "object_fit": null,
      "object_position": null,
      "order": null,
      "overflow": null,
      "overflow_x": null,
      "overflow_y": null,
      "padding": null,
      "right": null,
      "top": null,
      "visibility": null,
      "width": null
     }
    },
    "ec357dff6b0a44bda5abee110299983d": {
     "model_module": "@jupyter-widgets/controls",
     "model_module_version": "1.5.0",
     "model_name": "ButtonModel",
     "state": {
      "_dom_classes": [],
      "_model_module": "@jupyter-widgets/controls",
      "_model_module_version": "1.5.0",
      "_model_name": "ButtonModel",
      "_view_count": null,
      "_view_module": "@jupyter-widgets/controls",
      "_view_module_version": "1.5.0",
      "_view_name": "ButtonView",
      "button_style": "",
      "description": "Login",
      "disabled": false,
      "icon": "",
      "layout": "IPY_MODEL_210a0d6f9bf2407f95971a4080bcbc1d",
      "style": "IPY_MODEL_cf3761ef5f784e4c85b7e9d8fdd5c1c6",
      "tooltip": ""
     }
    },
    "ec5c4e1a7a17450aa14319880abc1312": {
     "model_module": "@jupyter-widgets/base",
     "model_module_version": "1.2.0",
     "model_name": "LayoutModel",
     "state": {
      "_model_module": "@jupyter-widgets/base",
      "_model_module_version": "1.2.0",
      "_model_name": "LayoutModel",
      "_view_count": null,
      "_view_module": "@jupyter-widgets/base",
      "_view_module_version": "1.2.0",
      "_view_name": "LayoutView",
      "align_content": null,
      "align_items": null,
      "align_self": null,
      "border": null,
      "bottom": null,
      "display": null,
      "flex": null,
      "flex_flow": null,
      "grid_area": null,
      "grid_auto_columns": null,
      "grid_auto_flow": null,
      "grid_auto_rows": null,
      "grid_column": null,
      "grid_gap": null,
      "grid_row": null,
      "grid_template_areas": null,
      "grid_template_columns": null,
      "grid_template_rows": null,
      "height": null,
      "justify_content": null,
      "justify_items": null,
      "left": null,
      "margin": null,
      "max_height": null,
      "max_width": null,
      "min_height": null,
      "min_width": null,
      "object_fit": null,
      "object_position": null,
      "order": null,
      "overflow": null,
      "overflow_x": null,
      "overflow_y": null,
      "padding": null,
      "right": null,
      "top": null,
      "visibility": null,
      "width": null
     }
    },
    "f2f12507a98d4c32b909704fca538498": {
     "model_module": "@jupyter-widgets/controls",
     "model_module_version": "1.5.0",
     "model_name": "HTMLModel",
     "state": {
      "_dom_classes": [],
      "_model_module": "@jupyter-widgets/controls",
      "_model_module_version": "1.5.0",
      "_model_name": "HTMLModel",
      "_view_count": null,
      "_view_module": "@jupyter-widgets/controls",
      "_view_module_version": "1.5.0",
      "_view_name": "HTMLView",
      "description": "",
      "description_tooltip": null,
      "layout": "IPY_MODEL_e0877f6c048f4e98bd533b3ac7c7c9e0",
      "placeholder": "​",
      "style": "IPY_MODEL_e3b67d34251f40bbb50f687ef4354e97",
      "value": "Truncating train dataset: 100%"
     }
    },
    "f3b694d1b8ef440596b171adbb86db61": {
     "model_module": "@jupyter-widgets/base",
     "model_module_version": "1.2.0",
     "model_name": "LayoutModel",
     "state": {
      "_model_module": "@jupyter-widgets/base",
      "_model_module_version": "1.2.0",
      "_model_name": "LayoutModel",
      "_view_count": null,
      "_view_module": "@jupyter-widgets/base",
      "_view_module_version": "1.2.0",
      "_view_name": "LayoutView",
      "align_content": null,
      "align_items": null,
      "align_self": null,
      "border": null,
      "bottom": null,
      "display": null,
      "flex": null,
      "flex_flow": null,
      "grid_area": null,
      "grid_auto_columns": null,
      "grid_auto_flow": null,
      "grid_auto_rows": null,
      "grid_column": null,
      "grid_gap": null,
      "grid_row": null,
      "grid_template_areas": null,
      "grid_template_columns": null,
      "grid_template_rows": null,
      "height": null,
      "justify_content": null,
      "justify_items": null,
      "left": null,
      "margin": null,
      "max_height": null,
      "max_width": null,
      "min_height": null,
      "min_width": null,
      "object_fit": null,
      "object_position": null,
      "order": null,
      "overflow": null,
      "overflow_x": null,
      "overflow_y": null,
      "padding": null,
      "right": null,
      "top": null,
      "visibility": null,
      "width": null
     }
    },
    "fa82f97ac413409da5f0ac54269fd03a": {
     "model_module": "@jupyter-widgets/base",
     "model_module_version": "1.2.0",
     "model_name": "LayoutModel",
     "state": {
      "_model_module": "@jupyter-widgets/base",
      "_model_module_version": "1.2.0",
      "_model_name": "LayoutModel",
      "_view_count": null,
      "_view_module": "@jupyter-widgets/base",
      "_view_module_version": "1.2.0",
      "_view_name": "LayoutView",
      "align_content": null,
      "align_items": null,
      "align_self": null,
      "border": null,
      "bottom": null,
      "display": null,
      "flex": null,
      "flex_flow": null,
      "grid_area": null,
      "grid_auto_columns": null,
      "grid_auto_flow": null,
      "grid_auto_rows": null,
      "grid_column": null,
      "grid_gap": null,
      "grid_row": null,
      "grid_template_areas": null,
      "grid_template_columns": null,
      "grid_template_rows": null,
      "height": null,
      "justify_content": null,
      "justify_items": null,
      "left": null,
      "margin": null,
      "max_height": null,
      "max_width": null,
      "min_height": null,
      "min_width": null,
      "object_fit": null,
      "object_position": null,
      "order": null,
      "overflow": null,
      "overflow_x": null,
      "overflow_y": null,
      "padding": null,
      "right": null,
      "top": null,
      "visibility": null,
      "width": null
     }
    },
    "fc0502b3f2ce417c8720e65cf7257666": {
     "model_module": "@jupyter-widgets/base",
     "model_module_version": "1.2.0",
     "model_name": "LayoutModel",
     "state": {
      "_model_module": "@jupyter-widgets/base",
      "_model_module_version": "1.2.0",
      "_model_name": "LayoutModel",
      "_view_count": null,
      "_view_module": "@jupyter-widgets/base",
      "_view_module_version": "1.2.0",
      "_view_name": "LayoutView",
      "align_content": null,
      "align_items": null,
      "align_self": null,
      "border": null,
      "bottom": null,
      "display": null,
      "flex": null,
      "flex_flow": null,
      "grid_area": null,
      "grid_auto_columns": null,
      "grid_auto_flow": null,
      "grid_auto_rows": null,
      "grid_column": null,
      "grid_gap": null,
      "grid_row": null,
      "grid_template_areas": null,
      "grid_template_columns": null,
      "grid_template_rows": null,
      "height": null,
      "justify_content": null,
      "justify_items": null,
      "left": null,
      "margin": null,
      "max_height": null,
      "max_width": null,
      "min_height": null,
      "min_width": null,
      "object_fit": null,
      "object_position": null,
      "order": null,
      "overflow": null,
      "overflow_x": null,
      "overflow_y": null,
      "padding": null,
      "right": null,
      "top": null,
      "visibility": null,
      "width": null
     }
    },
    "fe9735fd961847de9e1f7f816c7afb75": {
     "model_module": "@jupyter-widgets/base",
     "model_module_version": "1.2.0",
     "model_name": "LayoutModel",
     "state": {
      "_model_module": "@jupyter-widgets/base",
      "_model_module_version": "1.2.0",
      "_model_name": "LayoutModel",
      "_view_count": null,
      "_view_module": "@jupyter-widgets/base",
      "_view_module_version": "1.2.0",
      "_view_name": "LayoutView",
      "align_content": null,
      "align_items": null,
      "align_self": null,
      "border": null,
      "bottom": null,
      "display": null,
      "flex": null,
      "flex_flow": null,
      "grid_area": null,
      "grid_auto_columns": null,
      "grid_auto_flow": null,
      "grid_auto_rows": null,
      "grid_column": null,
      "grid_gap": null,
      "grid_row": null,
      "grid_template_areas": null,
      "grid_template_columns": null,
      "grid_template_rows": null,
      "height": null,
      "justify_content": null,
      "justify_items": null,
      "left": null,
      "margin": null,
      "max_height": null,
      "max_width": null,
      "min_height": null,
      "min_width": null,
      "object_fit": null,
      "object_position": null,
      "order": null,
      "overflow": null,
      "overflow_x": null,
      "overflow_y": null,
      "padding": null,
      "right": null,
      "top": null,
      "visibility": null,
      "width": null
     }
    }
   }
  }
 },
 "nbformat": 4,
 "nbformat_minor": 4
}
